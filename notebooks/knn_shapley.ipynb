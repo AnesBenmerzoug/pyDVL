{
 "cells": [
  {
   "cell_type": "code",
   "execution_count": null,
   "id": "63453186",
   "metadata": {},
   "outputs": [],
   "source": [
    "%load_ext autoreload"
   ]
  },
  {
   "cell_type": "code",
   "execution_count": null,
   "id": "95fbbb01",
   "metadata": {},
   "outputs": [],
   "source": [
    "%autoreload\n",
    "from sklearn import datasets\n",
    "from valuation.utils import Dataset\n",
    "from plots import plot_iris\n",
    "import matplotlib.pyplot as plt\n",
    "import numpy as np\n",
    "from sklearn.neighbors import KNeighborsClassifier\n",
    "from valuation.shapley.exact import combinatorial_shapley\n",
    "from valuation.shapley.knn import exact_knn_shapley\n",
    "from tqdm.auto import tqdm"
   ]
  },
  {
   "cell_type": "code",
   "execution_count": null,
   "id": "7eed1d8d",
   "metadata": {},
   "outputs": [],
   "source": [
    "data = Dataset.from_sklearn(datasets.load_iris())"
   ]
  },
  {
   "cell_type": "code",
   "execution_count": null,
   "id": "58bb9b4e",
   "metadata": {},
   "outputs": [],
   "source": [
    "knn = KNeighborsClassifier(n_neighbors=5)\n",
    "values = exact_knn_shapley(data, knn)"
   ]
  },
  {
   "cell_type": "code",
   "execution_count": null,
   "id": "c64eedd4",
   "metadata": {},
   "outputs": [],
   "source": [
    "effective = [k for k,v in values.items() if abs(v) > 0.]\n",
    "values = np.array([values[k] for k in effective])"
   ]
  },
  {
   "cell_type": "code",
   "execution_count": null,
   "id": "467f635a",
   "metadata": {},
   "outputs": [],
   "source": [
    "plot_iris(data)"
   ]
  },
  {
   "cell_type": "code",
   "execution_count": null,
   "id": "14982134",
   "metadata": {
    "scrolled": false
   },
   "outputs": [],
   "source": [
    "plot_iris(data, effective, values, plot_test=True)"
   ]
  }
 ],
 "metadata": {
  "kernelspec": {
   "display_name": "Python 3",
   "language": "python",
   "name": "python3"
  },
  "language_info": {
   "codemirror_mode": {
    "name": "ipython",
    "version": 3
   },
   "file_extension": ".py",
   "mimetype": "text/x-python",
   "name": "python",
   "nbconvert_exporter": "python",
   "pygments_lexer": "ipython3",
   "version": "3.8.8"
  }
 },
 "nbformat": 4,
 "nbformat_minor": 5
}

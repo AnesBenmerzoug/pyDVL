{
 "cells": [
  {
   "cell_type": "markdown",
   "metadata": {},
   "source": [
    "$$ \\phi_i = C \\sum_{S \\subset D \\backslash \\{i\\}} \\frac{1}{{n-1} \\choose {|S|}} [V(S \\cup \\{i\\})-V(S)]$$\n",
    "\n",
    "$$ \\phi_i = \\mathbb{E}_{\\pi \\sim \\Pi} [V(S^i_{\\pi} \\cup {\\{i\\}})-V(S^i_{\\pi})]$$"
   ]
  },
  {
   "cell_type": "markdown",
   "metadata": {},
   "source": [
    "1. n = number of training samples\n",
    "1. values = -np.inf * np.ones(n)\n",
    "1. scores = [[] for _ in range(n)]\n",
    "1. For i in (1,n):\n",
    "    1. iteration = 0\n",
    "    1. while iteration < max_iterations:\n",
    "        1. Draw an n-permutation\n",
    "        1. model.fit(samples(permutation(:index(i))))\n",
    "        1. score_without = model.predict(test set)\n",
    "        1. model.fit(samples(permutation(:index(i)+1)))\n",
    "        1. score_with = model.predict(test set)\n",
    "        1. old_moving_average = mean(scores(i))\n",
    "        1. scores(i).push(score_with - score_without)\n",
    "        1. new_moving_average = mean(scores(i))\n",
    "        1. if abs(new_moving_average - old_moving_average) < eps then break\n",
    "        1. old_moving_average = new_moving_average \n",
    "        1. iteration += 1\n",
    "    1. values(i) = mean(scores(i))"
   ]
  },
  {
   "cell_type": "code",
   "execution_count": null,
   "metadata": {},
   "outputs": [],
   "source": [
    "%load_ext autoreload\n",
    "import numpy as np\n",
    "import pandas as pd\n",
    "import matplotlib.pyplot as plt\n",
    "\n",
    "from collections import OrderedDict\n",
    "from functools import partial\n",
    "from sklearn import datasets\n",
    "from sklearn.model_selection import train_test_split\n",
    "from sklearn.ensemble import GradientBoostingRegressor"
   ]
  },
  {
   "cell_type": "code",
   "execution_count": null,
   "metadata": {},
   "outputs": [],
   "source": [
    "data = datasets.load_boston()\n",
    "x_train, x_test, y_train, y_test = train_test_split(data.data, data.target)\n",
    "x_train = pd.DataFrame(x_train, columns=data.feature_names)\n",
    "y_train = pd.DataFrame(y_train, columns=['target'])\n",
    "x_test = pd.DataFrame(x_test, columns=data.feature_names)\n",
    "y_test = pd.DataFrame(y_test, columns=['target'])"
   ]
  },
  {
   "cell_type": "code",
   "execution_count": null,
   "metadata": {},
   "outputs": [],
   "source": [
    "model = GradientBoostingRegressor()\n",
    "model.fit(x_train, y_train)\n",
    "predictions = model.predict(x_test)"
   ]
  },
  {
   "cell_type": "code",
   "execution_count": null,
   "metadata": {},
   "outputs": [],
   "source": [
    "plt.figure(figsize=(9, 6))\n",
    "plt.scatter(y_test, predictions)\n",
    "plt.plot([0, 50], [0, 50], '--k')\n",
    "plt.xlabel('True')\n",
    "plt.ylabel('Predicted');"
   ]
  },
  {
   "cell_type": "code",
   "execution_count": null,
   "metadata": {},
   "outputs": [],
   "source": [
    "from valuation.shapley.data import naive_montecarlo_shapley, montecarlo_shapley\n",
    "from valuation.parallel import run_and_gather, compute_fb_scores\n",
    "from valuation.reporting.plots import shapley_results\n",
    "\n",
    "from sklearn.metrics import mean_absolute_error\n",
    "from joblib import Parallel, delayed\n",
    "from tqdm import tqdm"
   ]
  },
  {
   "cell_type": "code",
   "execution_count": null,
   "metadata": {
    "pycharm": {
     "name": "#%%\n"
    }
   },
   "outputs": [],
   "source": [
    "indices = list(range(0, len(x_train)))\n",
    "max_iterations = 200\n",
    "fun = partial(naive_montecarlo_shapley, model, model.score,\n",
    "              x_train, y_train, x_test, y_test,\n",
    "              max_iterations=max_iterations, tolerance=None)\n",
    "values = run_and_gather(fun, (\"indices\", indices), num_jobs=160, num_runs=10)"
   ]
  },
  {
   "cell_type": "code",
   "execution_count": null,
   "metadata": {},
   "outputs": [],
   "source": [
    "results = compute_fb_scores(values, model, x_train, y_train, x_test, y_test)"
   ]
  },
  {
   "cell_type": "code",
   "execution_count": null,
   "metadata": {},
   "outputs": [],
   "source": [
    "results.update({'max_iterations': max_iterations, \"score_name\": \"$R^2$\"})\n",
    "shapley_results(results)"
   ]
  },
  {
   "cell_type": "code",
   "execution_count": null,
   "metadata": {},
   "outputs": [],
   "source": []
  }
 ],
 "metadata": {
  "kernelspec": {
   "display_name": "Python 3",
   "language": "python",
   "name": "python3"
  },
  "language_info": {
   "codemirror_mode": {
    "name": "ipython",
    "version": 3
   },
   "file_extension": ".py",
   "mimetype": "text/x-python",
   "name": "python",
   "nbconvert_exporter": "python",
   "pygments_lexer": "ipython3",
   "version": "3.8.3"
  }
 },
 "nbformat": 4,
 "nbformat_minor": 4
}

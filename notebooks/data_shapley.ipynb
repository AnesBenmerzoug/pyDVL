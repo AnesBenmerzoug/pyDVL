{
 "cells": [
  {
   "cell_type": "markdown",
   "metadata": {},
   "source": [
    "# Dval - Shapley for data valuation"
   ]
  },
  {
   "cell_type": "markdown",
   "metadata": {},
   "source": [
    "This notebook introduces Dval, a library to evaluate the importance of single datapoints in the performance of machine learning models.\n",
    "We will go through the foundations of the library, its main entry-points and capabilities working with a real dataset of music tracks.\n",
    "We will also highlight the advantages of using our library over vanilla data-shapley calculations, showing explicitly the advantages in runtime and efficiency for large datasets."
   ]
  },
  {
   "cell_type": "code",
   "execution_count": null,
   "metadata": {},
   "outputs": [],
   "source": [
    "%load_ext autoreload\n",
    "import matplotlib.pyplot as plt\n",
    "from sklearn.model_selection import train_test_split\n",
    "import pandas as pd"
   ]
  },
  {
   "cell_type": "code",
   "execution_count": null,
   "metadata": {},
   "outputs": [],
   "source": [
    "from valuation.utils import load_spotify_dataset\n",
    "data = load_spotify_dataset(min_year=2014)\n",
    "data.head()"
   ]
  },
  {
   "cell_type": "code",
   "execution_count": null,
   "metadata": {},
   "outputs": [],
   "source": [
    "target_column = 'popularity'\n",
    "y = data[target_column]\n",
    "X = data.drop(target_column, axis=1)\n",
    "X, X_test, y, y_test = train_test_split(X, y, test_size=0.3, random_state=24)\n",
    "X_train, X_val, y_train, y_val = train_test_split(X, y, test_size=0.3, random_state=24)"
   ]
  },
  {
   "cell_type": "code",
   "execution_count": null,
   "metadata": {},
   "outputs": [],
   "source": [
    "song_name = X_train['song']\n",
    "artist = X_train['artist']\n",
    "X_train = X_train.drop(['song', 'artist'], axis=1)\n",
    "X_test = X_test.drop(['song', 'artist'], axis=1)\n",
    "X_val = X_val.drop(['song', 'artist'], axis=1)"
   ]
  },
  {
   "cell_type": "markdown",
   "metadata": {},
   "source": [
    "Note: Make sure to restart (or simply start if it is not already running) your memcache. In the terminal, type\n",
    "\n",
    "`sudo service memcached restart`"
   ]
  },
  {
   "cell_type": "code",
   "execution_count": null,
   "metadata": {},
   "outputs": [],
   "source": [
    "from valuation.shapley import create_utility, shapley_dval\n",
    "from sklearn.ensemble import GradientBoostingRegressor\n",
    "utility = create_utility(model=GradientBoostingRegressor(n_estimators=3), x_train=X_train, y_train=y_train, x_test=X_val, y_test=y_val, scoring='neg_mean_absolute_error', data_groups=artist)\n",
    "dval_df = shapley_dval(utility, iterations_per_job=1, num_jobs=20)"
   ]
  },
  {
   "cell_type": "code",
   "execution_count": null,
   "metadata": {},
   "outputs": [],
   "source": [
    "from valuation.shapley import create_utility, shapley_dval\n",
    "from sklearn.ensemble import GradientBoostingRegressor\n",
    "utility = create_utility(model=GradientBoostingRegressor(n_estimators=3), x_train=X_train, y_train=y_train, x_test=X_val, y_test=y_val, scoring='neg_mean_absolute_error', data_groups=artist)\n",
    "dval_df = shapley_dval(utility, iterations_per_job=10, num_jobs=20)"
   ]
  },
  {
   "cell_type": "code",
   "execution_count": null,
   "metadata": {},
   "outputs": [],
   "source": [
    "low_dval = dval_df.iloc[:30]\n",
    "plt.figure(figsize=(20, 5))\n",
    "plt.errorbar(x=low_dval['artist'], y=low_dval['shapley_dval'], yerr=low_dval['dval_std'], fmt='o')\n",
    "plt.xticks(rotation=45)\n",
    "plt.show()"
   ]
  },
  {
   "cell_type": "code",
   "execution_count": null,
   "metadata": {},
   "outputs": [],
   "source": [
    "low_dval_artists = dval_df.iloc[:30].artist.to_list()\n",
    "artist_filter = ~artist.isin(low_dval_artists)\n",
    "X_train_new = X_train[artist_filter]\n",
    "y_train_new = y_train[artist_filter]"
   ]
  },
  {
   "cell_type": "code",
   "execution_count": null,
   "metadata": {},
   "outputs": [],
   "source": [
    "from sklearn.metrics import mean_absolute_error\n",
    "full_model = GradientBoostingRegressor(n_estimators=3).fit(X_train_new, y_train_new)\n",
    "mean_absolute_error(full_model.predict(X_test), y_test)"
   ]
  },
  {
   "cell_type": "code",
   "execution_count": null,
   "metadata": {},
   "outputs": [],
   "source": [
    "full_model = GradientBoostingRegressor(n_estimators=3).fit(X_train, y_train)\n",
    "mean_absolute_error(full_model.predict(X_test), y_test)"
   ]
  },
  {
   "cell_type": "markdown",
   "metadata": {},
   "source": [
    "## Evaluation of anomalous data"
   ]
  },
  {
   "cell_type": "code",
   "execution_count": null,
   "metadata": {},
   "outputs": [],
   "source": [
    "high_dval = dval_df.iloc[-30:]\n",
    "plt.figure(figsize=(20, 5))\n",
    "plt.errorbar(x=high_dval['artist'], y=high_dval['shapley_dval'], yerr=high_dval['dval_std'], fmt='o')\n",
    "plt.xticks(rotation=45)\n",
    "plt.show()"
   ]
  },
  {
   "cell_type": "code",
   "execution_count": null,
   "metadata": {},
   "outputs": [],
   "source": [
    "y_train.loc[artist == 'Rihanna'] = 0"
   ]
  },
  {
   "cell_type": "code",
   "execution_count": null,
   "metadata": {},
   "outputs": [],
   "source": [
    "utility = create_utility(model=GradientBoostingRegressor(n_estimators=3), x_train=X_train, y_train=y_train, x_test=X_val, y_test=y_val, scoring='neg_mean_absolute_error', data_groups=artist)\n",
    "dval_df = shapley_dval(utility, iterations_per_job=10, num_jobs=20)"
   ]
  },
  {
   "cell_type": "code",
   "execution_count": null,
   "metadata": {},
   "outputs": [],
   "source": [
    "low_dval = dval_df.iloc[:30]\n",
    "plt.figure(figsize=(20, 5))\n",
    "plt.errorbar(x=low_dval['artist'], y=low_dval['shapley_dval'], yerr=low_dval['dval_std'], fmt='o')\n",
    "plt.xticks(rotation=45)\n",
    "plt.show()"
   ]
  },
  {
   "cell_type": "markdown",
   "metadata": {},
   "source": [
    "# Advanced: Dval cache configuration"
   ]
  },
  {
   "cell_type": "code",
   "execution_count": null,
   "metadata": {},
   "outputs": [],
   "source": [
    "from valuation.utils import MemcachedConfig\n",
    "memcache_config = MemcachedConfig(\n",
    "                        cache_threshold = 0.3,\n",
    "                        allow_repeated_training = False,\n",
    "                        rtol_threshold = 0.1,\n",
    "                        min_repetitions = 3,\n",
    "                    )\n",
    "utility = create_utility(model=GradientBoostingRegressor(n_estimators=3), x_train=X_train, y_train=y_train, x_test=X_val, y_test=y_val, scoring='neg_mean_absolute_error', data_groups=artist, enable_cache=True, cache_options=memcache_config)\n",
    "dval_df = shapley_dval(utility, iterations_per_job=10, num_jobs=20)"
   ]
  },
  {
   "cell_type": "code",
   "execution_count": null,
   "metadata": {},
   "outputs": [],
   "source": [
    "utility = create_utility(model=GradientBoostingRegressor(n_estimators=3), x_train=X_train, y_train=y_train, x_test=X_val, y_test=y_val, scoring='neg_mean_absolute_error', data_groups=artist, enable_cache=False)\n",
    "dval_df = shapley_dval(utility, iterations_per_job=10, num_jobs=20)"
   ]
  }
 ],
 "metadata": {
  "kernelspec": {
   "display_name": "Python 3.8.13 ('dval_env')",
   "language": "python",
   "name": "python3"
  },
  "language_info": {
   "codemirror_mode": {
    "name": "ipython",
    "version": 3
   },
   "file_extension": ".py",
   "mimetype": "text/x-python",
   "name": "python",
   "nbconvert_exporter": "python",
   "pygments_lexer": "ipython3",
   "version": "3.8.13"
  },
  "vscode": {
   "interpreter": {
    "hash": "b3369ace3ad477f5e763d9fa7767e0177027059e92a8b1ded9e92b707c0b1513"
   }
  }
 },
 "nbformat": 4,
 "nbformat_minor": 4
}

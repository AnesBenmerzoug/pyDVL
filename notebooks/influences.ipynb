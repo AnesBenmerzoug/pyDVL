{
 "cells": [
  {
   "cell_type": "markdown",
   "source": [
    "# Influence functions for data mis-labelling\n",
    "\n",
    "Both data mis-labelling and outlier detection target the same problem, they are operating on discrete and continuous values, respectively. A influence function $I(x_1, x_2) \\colon \\mathbb{R}^n \\times \\mathbb{R}^n \\to \\mathbb{R} $ measures the influence of the data point $x_1$ onto $x_2$ conditioned on the training targets $y_1$ and $y_2$. As long as the loss function $L(x, y)$ is differentiable (or can be approximated by a surrogate objective). Imagine a simple classification problem, where $y_i \\in \\{1, \\dots, K\\}$, the goal is now to find labels which are mislabelled. In our case we further simplify the problem to set $K=2$.\n",
    "\n",
    "## Artificial data generation\n",
    "\n",
    "First we generate a K-class, M-dimensional dataset using a Gaussian mixture model (GMM). This can be done by sampling $N$ data points from a discrete distribution with $K$ different values. For each of these different discrete states a mean is specified and the observation $x$ is sampled accordingly."
   ],
   "metadata": {
    "collapsed": false,
    "pycharm": {
     "name": "#%% md\n"
    }
   }
  },
  {
   "cell_type": "code",
   "execution_count": null,
   "outputs": [],
   "source": [
    "from valuation.utils import Dataset\n",
    "from sklearn.model_selection import train_test_split\n",
    "\n",
    "import numpy as np\n",
    "\n",
    "N = 1000\n",
    "K = 2\n",
    "M = 2\n",
    "sigma = 0.2\n",
    "\n",
    "gaussian_mean = np.asarray([\n",
    "    [0.0, 0.0],\n",
    "    [1.0, 1.0]\n",
    "])\n",
    "gaussian_cov = sigma * np.eye(M)\n",
    "gaussian_chol = np.linalg.cholesky(gaussian_cov)\n",
    "y = np.random.randint(K, size=N)\n",
    "x = np.einsum('ij,kj->ki', gaussian_chol, np.random.normal(size=[N, M])) + gaussian_mean[y]\n",
    "x_train, x_test, y_train, y_test = train_test_split(x, y, train_size=0.70)\n",
    "dataset = Dataset(\n",
    "    x_train,\n",
    "    y_train,\n",
    "    x_test,\n",
    "    y_test\n",
    ")"
   ],
   "metadata": {
    "collapsed": false,
    "pycharm": {
     "name": "#%%\n"
    }
   }
  },
  {
   "cell_type": "markdown",
   "source": [
    "## Inspecting the dataset\n",
    "\n",
    "It is always helpful to visualize the dataset, in the 2-dimensional case it is rather straight forward and we just choose one color for each class. Note that both the train and test set are plotted separately."
   ],
   "metadata": {
    "collapsed": false,
    "pycharm": {
     "name": "#%% md\n"
    }
   }
  },
  {
   "cell_type": "code",
   "execution_count": null,
   "outputs": [],
   "source": [
    "import matplotlib.pyplot as plt\n",
    "\n",
    "datasets = {\n",
    "    'train': (dataset.x_train, dataset.y_train),\n",
    "    'test': (dataset.x_test, dataset.y_test)\n",
    "}\n",
    "num_datasets = len(datasets)\n",
    "fig, ax = plt.subplots(1, num_datasets, figsize=(12, 4))\n",
    "\n",
    "for i, dataset_name in enumerate(datasets.keys()):\n",
    "    x, y = datasets[dataset_name]\n",
    "    ax[i].set_title(dataset_name)\n",
    "\n",
    "    for v in np.unique(y):\n",
    "        idx = np.argwhere(y == v)\n",
    "        ax[i].scatter(x[idx, 0], x[idx, 1], label=str(v))\n",
    "\n",
    "\n",
    "plt.legend()\n",
    "plt.show()"
   ],
   "metadata": {
    "collapsed": false,
    "pycharm": {
     "name": "#%%\n"
    }
   }
  },
  {
   "cell_type": "markdown",
   "source": [
    "As one can see the two classes slighlty overlap and we expect sampples from this region to have higher influence on the remaining region. We are going to verify this in the next section."
   ],
   "metadata": {
    "collapsed": false,
    "pycharm": {
     "name": "#%% md\n"
    }
   }
  },
  {
   "cell_type": "markdown",
   "source": [
    "## Calculating linear influences using logistic regression\n",
    "\n",
    "For calculating the influences his section we utilize a logistic regression model to identify wrongly labelled data samples. As a first step one needs to define a model, fit it to the data and then insert it in the influence function"
   ],
   "metadata": {
    "collapsed": false,
    "pycharm": {
     "name": "#%% md\n"
    }
   }
  },
  {
   "cell_type": "code",
   "execution_count": null,
   "outputs": [],
   "source": [
    "from valuation.models.pytorch_model import PyTorchSupervisedModel, PyTorchOptimizer\n",
    "from valuation.influence.general import influences\n",
    "from valuation.influence.types import InfluenceTypes\n",
    "from valuation.models.binary_logistic_regression import BinaryLogisticRegressionTorchModel\n",
    "import torch.nn.functional as F\n",
    "\n",
    "objective = F.binary_cross_entropy\n",
    "model = PyTorchSupervisedModel(\n",
    "    model=BinaryLogisticRegressionTorchModel(M),\n",
    "    objective=F.binary_cross_entropy,\n",
    "    num_epochs=1000,\n",
    "    batch_size=128,\n",
    "    optimizer=PyTorchOptimizer.ADAM_W,\n",
    "    optimizer_kwargs={\"lr\": 0.01, \"weight_decay\": 0.005},\n",
    ")\n",
    "model.fit(\n",
    "    dataset.x_train,\n",
    "    dataset.y_train\n",
    ")\n",
    "\n",
    "train_influences = influences(\n",
    "    model,\n",
    "    dataset.x_train,\n",
    "    dataset.y_train,\n",
    "    dataset.x_test,\n",
    "    dataset.y_test,\n",
    "    influence_type=InfluenceTypes.Up\n",
    ")\n",
    "test_influences = influences(\n",
    "    model,\n",
    "    dataset.x_test,\n",
    "    dataset.y_test,\n",
    "    influence_type=InfluenceTypes.Up\n",
    ")"
   ],
   "metadata": {
    "collapsed": false,
    "pycharm": {
     "name": "#%%\n"
    }
   }
  },
  {
   "cell_type": "markdown",
   "source": [
    "# Plotting the mean influences of the training samples\n",
    "\n",
    "Next we are going to calculate the mean absolute influences of the training samples and plot them."
   ],
   "metadata": {
    "collapsed": false,
    "pycharm": {
     "name": "#%% md\n"
    }
   }
  },
  {
   "cell_type": "code",
   "execution_count": null,
   "outputs": [],
   "source": [
    "mean_influences = lambda arr: np.mean(np.abs(arr), axis=0)\n",
    "mean_train_influences = mean_influences(train_influences)\n",
    "mean_test_influences = mean_influences(test_influences)"
   ],
   "metadata": {
    "collapsed": false,
    "pycharm": {
     "name": "#%%\n"
    }
   }
  },
  {
   "cell_type": "code",
   "execution_count": null,
   "outputs": [],
   "source": [
    "import matplotlib.pyplot as plt\n",
    "\n",
    "fig = plt.figure()\n",
    "\n",
    "fig, ax = plt.subplots(1, num_datasets, figsize=(12, 4))\n",
    "mean_influences = {\n",
    "    'train': mean_train_influences,\n",
    "    'test': mean_test_influences\n",
    "}\n",
    "v_max = max(np.max(mean_train_influences), np.max(mean_test_influences))\n",
    "for i, dataset_name in enumerate(datasets.keys()):\n",
    "    x = datasets[dataset_name][0].copy()\n",
    "    ax[i].set_title(dataset_name)\n",
    "    points = ax[i].scatter(x[:, 0], x[:, 1], c=mean_influences[dataset_name], vmin=0, vmax=v_max, cmap=\"plasma\")\n",
    "\n",
    "plt.suptitle(\"Influences of training and test set.\")\n",
    "plt.colorbar(points)\n",
    "plt.show()"
   ],
   "metadata": {
    "collapsed": false,
    "pycharm": {
     "name": "#%%\n"
    }
   }
  },
  {
   "cell_type": "markdown",
   "source": [
    "## Flipping 5% of the labels of the train set\n",
    "\n",
    "We assume that our reference test set is not flipped and was checked, e.g. by human inspection. In comparison the test set gets flipped 5% at random positions. We want to show how to identify flipped examples "
   ],
   "metadata": {
    "collapsed": false,
    "pycharm": {
     "name": "#%% md\n"
    }
   }
  },
  {
   "cell_type": "code",
   "execution_count": null,
   "outputs": [],
   "source": [
    "flip_percentage = 0.05\n",
    "flip_num_samples = int(flip_percentage * len(dataset.x_train))\n",
    "idx = np.random.choice(len(dataset.x_train), replace=False, size=flip_num_samples)"
   ],
   "metadata": {
    "collapsed": false,
    "pycharm": {
     "name": "#%%\n"
    }
   }
  },
  {
   "cell_type": "code",
   "execution_count": null,
   "outputs": [],
   "source": [
    "flipped_dataset = Dataset(\n",
    "    dataset.x_train.copy(),\n",
    "    dataset.y_train.copy(),\n",
    "    dataset.x_test.copy(),\n",
    "    dataset.y_test.copy()\n",
    ")\n",
    "flipped_dataset.y_train[idx] = 1 - flipped_dataset.y_train[idx]"
   ],
   "metadata": {
    "collapsed": false,
    "pycharm": {
     "name": "#%%\n"
    }
   }
  },
  {
   "cell_type": "markdown",
   "source": [
    "## Identifiying data points with absurd high gradients"
   ],
   "metadata": {
    "collapsed": false,
    "pycharm": {
     "name": "#%% md\n"
    }
   }
  },
  {
   "cell_type": "code",
   "execution_count": null,
   "outputs": [],
   "source": [
    "flipped_train_test_influences = influences(\n",
    "    model,\n",
    "    flipped_dataset.x_train,\n",
    "    flipped_dataset.y_train,\n",
    "    flipped_dataset.x_test,\n",
    "    flipped_dataset.y_test,\n",
    "    influence_type=InfluenceTypes.Up\n",
    ")"
   ],
   "metadata": {
    "collapsed": false,
    "pycharm": {
     "name": "#%%\n"
    }
   }
  },
  {
   "cell_type": "code",
   "execution_count": null,
   "outputs": [],
   "source": [
    "mean_flipped_train_test_influences = np.abs(np.mean(flipped_train_test_influences, axis=0))\n",
    "estimated_idx = np.flip(np.argsort(mean_flipped_train_test_influences))[:len(idx)]"
   ],
   "metadata": {
    "collapsed": false,
    "pycharm": {
     "name": "#%%\n"
    }
   }
  },
  {
   "cell_type": "code",
   "execution_count": null,
   "outputs": [],
   "source": [
    "found_elements = set(estimated_idx).intersection(set(idx))\n",
    "remaining_element = set(idx).difference(set(estimated_idx))\n",
    "display(f\"Around {100* len(found_elements) / len(idx):.2f} could be identified. But there are {100* len(remaining_element) / len(idx):.2f}% remaining samples\")"
   ],
   "metadata": {
    "collapsed": false,
    "pycharm": {
     "name": "#%%\n"
    }
   }
  },
  {
   "cell_type": "markdown",
   "source": [
    "As we can see it was very straightforward to identify 82% of the 5% flipped data samples. This accounts for at most 1% remaining flipped samples. We now want to take a look at these cases."
   ],
   "metadata": {
    "collapsed": false,
    "pycharm": {
     "name": "#%% md\n"
    }
   }
  },
  {
   "cell_type": "code",
   "execution_count": null,
   "outputs": [],
   "source": [
    "import matplotlib.pyplot as plt\n",
    "\n",
    "remaining_idx = np.asarray(list(remaining_element), dtype=int)\n",
    "plt.figure()\n",
    "y = flipped_dataset.y_train[remaining_idx]\n",
    "for v in np.unique(y):\n",
    "    sub_idx = np.argwhere(y == v)\n",
    "    c_idx = remaining_idx[sub_idx]\n",
    "    plt.scatter(flipped_dataset.x_train[c_idx, 0], flipped_dataset.x_train[c_idx, 1], label=str(v))\n",
    "\n",
    "plt.legend()\n",
    "plt.show()"
   ],
   "metadata": {
    "collapsed": false,
    "pycharm": {
     "name": "#%%\n"
    }
   }
  },
  {
   "cell_type": "code",
   "execution_count": 91,
   "id": "48623f3f",
   "metadata": {
    "pycharm": {
     "name": "#%%\n"
    }
   },
   "outputs": [],
   "source": [
    "mean_flipped_train_test_influences = np.abs(np.mean(flipped_train_test_influences, axis=0))\n",
    "estimated_idx = np.flip(np.argsort(mean_flipped_train_test_influences))[:len(idx)]"
   ]
  },
  {
   "cell_type": "code",
   "execution_count": 103,
   "id": "f6acf1c6",
   "metadata": {
    "pycharm": {
     "name": "#%%\n"
    }
   },
   "outputs": [
    {
     "data": {
      "text/plain": [
       "'Around 82.86 could be identified. But there are 17.14% remaining elements'"
      ]
     },
     "metadata": {},
     "output_type": "display_data"
    }
   ],
   "source": [
    "found_elements = set(estimated_idx).intersection(set(idx))\n",
    "remaining_element = set(idx).difference(set(estimated_idx))\n",
    "display(f\"Around {100* len(found_elements) / len(idx):.2f} could be identified. But there are {100* len(remaining_element) / len(idx):.2f}% remaining samples\")"
   ]
  },
  {
   "cell_type": "markdown",
   "id": "c4fb15ab",
   "metadata": {
    "pycharm": {
     "name": "#%% md\n"
    }
   },
   "source": [
    "As we can see it was very straightforward to identify 82% of the 5% flipped data samples. This accounts for at most 1% remaining flipped samples. We now want to take a look at these cases."
   ]
  },
  {
   "cell_type": "code",
   "execution_count": 115,
   "id": "54b627b6",
   "metadata": {
    "pycharm": {
     "name": "#%%\n"
    }
   },
   "outputs": [
    {
     "data": {
      "image/png": "[encoded data removed]",
      "text/plain": [
       "<Figure size 432x288 with 1 Axes>"
      ]
     },
     "metadata": {
      "needs_background": "light"
     },
     "output_type": "display_data"
    }
   ],
   "source": [
    "import matplotlib.pyplot as plt\n",
    "\n",
    "remaining_idx = np.asarray(list(remaining_element), dtype=int)\n",
    "plt.figure()\n",
    "y = flipped_dataset.y_train[remaining_idx]\n",
    "for v in np.unique(y):\n",
    "    sub_idx = np.argwhere(y == v)\n",
    "    c_idx = remaining_idx[sub_idx]\n",
    "    plt.scatter(flipped_dataset.x_train[c_idx, 0], flipped_dataset.x_train[c_idx, 1], label=str(v))\n",
    "\n",
    "plt.legend()\n",
    "plt.show()"
   ]
  },
  {
   "cell_type": "code",
   "execution_count": null,
   "id": "429af1a7",
   "metadata": {
    "pycharm": {
     "name": "#%%\n"
    }
   },
   "outputs": [],
   "source": []
  }
 ],
 "metadata": {
  "kernelspec": {
   "display_name": "Python 3 (ipykernel)",
   "language": "python",
   "name": "python3"
  },
  "language_info": {
   "codemirror_mode": {
    "name": "ipython",
    "version": 3
   },
   "file_extension": ".py",
   "mimetype": "text/x-python",
   "name": "python",
   "nbconvert_exporter": "python",
   "pygments_lexer": "ipython3",
   "version": "3.8.13"
  }
 },
 "nbformat": 4,
 "nbformat_minor": 5
}
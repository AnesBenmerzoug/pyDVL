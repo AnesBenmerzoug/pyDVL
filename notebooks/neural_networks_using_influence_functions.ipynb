{
 "cells": [
  {
   "cell_type": "markdown",
   "id": "a75acfec",
   "metadata": {},
   "source": [
    "# Clean dataset using influence functions and neural networks\n",
    "\n",
    "A dataset usually consists of a lot of data points, while not all data points are equally important for achieving the desired accuracy. Sometimes it is necessary to speed up the gradient calculations or optimize the required RAM. Example applications are reinforcement learning or continuous optimal control tasks. This notebook\n",
    "\n",
    "- shows how to calculate influences using the pyDVL library of an arbitrary (usually called training) set of data samples $X_\\text{train} \\subseteq \\mathbb{R}^d$ onto a test set $X_\\text{test} \\subseteq \\mathbb{R}^d$.\n",
    "- shows a plot with the weighted F1-score on the y-axis and the number of samples on the x-axis.\n",
    "- selects the optimal number of samples for the dataset as induced by the influence functions.\n",
    "\n",
    "First, an arbitrary random dataset can be loaded or created using the ```utils.dataset.Dataset``` class. For showcase purposes the wine dataset is used. It can be loaded (as any other compatible dataset) directly from sklearn."
   ]
  },
  {
   "cell_type": "code",
   "execution_count": 2,
   "id": "be813151",
   "metadata": {},
   "outputs": [],
   "source": [
    "from sklearn.datasets import load_wine\n",
    "from valuation.utils.dataset import Dataset\n",
    "\n",
    "wine_bunch = load_wine(as_frame=True)\n",
    "dataset = Dataset.from_sklearn(wine_bunch)"
   ]
  },
  {
   "cell_type": "markdown",
   "id": "a018e72c",
   "metadata": {},
   "source": [
    "## Fit a neural network to the data\n",
    "\n",
    "First, a 2-layer neural network is created and fitted with pyDVL. This can be achieved by the following code snippet. It creates a 2-layer neural network with 16 neurons in each hidden layer."
   ]
  },
  {
   "cell_type": "code",
   "execution_count": 13,
   "id": "00dc59af",
   "metadata": {},
   "outputs": [],
   "source": [
    "from copy import copy\n",
    "import torch\n",
    "from valuation.influence.model_wrappers import TorchNeuralNetwork, fit_torch_model\n",
    "import torch.nn.functional as F\n",
    "from sklearn.preprocessing import MinMaxScaler\n",
    "from torch.optim import Adam, lr_scheduler\n",
    "import numpy as np\n",
    "\n",
    "x_transformer = MinMaxScaler()\n",
    "\n",
    "transformed_dataset = copy(dataset)\n",
    "x_train = x_transformer.fit_transform(transformed_dataset.x_train)\n",
    "transformed_dataset.x_train = torch.tensor(x_train, dtype=torch.float)\n",
    "transformed_dataset.y_train = torch.tensor(transformed_dataset.y_train, dtype=torch.long)\n",
    "x_test = x_transformer.transform(transformed_dataset.x_test)\n",
    "transformed_dataset.y_test = torch.tensor(transformed_dataset.y_test, dtype=torch.long)\n",
    "transformed_dataset.x_test = torch.tensor(x_test, dtype=torch.float)\n",
    "feature_dimension = transformed_dataset.x_train.shape[1]\n",
    "unique_classes = np.unique(np.concatenate((dataset.y_train, dataset.y_test)))\n",
    "num_classes = len(unique_classes)\n",
    "network_size = [16, 16]\n",
    "num_epochs = 300\n",
    "device = torch.device(\"cuda:0\" if torch.cuda.is_available() else \"cpu\")\n",
    "\n",
    "nn = TorchNeuralNetwork(feature_dimension, num_classes, network_size)\n",
    "nn.to(device)\n",
    "optimizer = Adam(params=nn.parameters(), lr= 0.001, weight_decay= 0.001)\n",
    "scheduler = lr_scheduler.CosineAnnealingLR(optimizer, T_max=num_epochs)\n",
    "\n",
    "fit_torch_model(\n",
    "    model=nn,\n",
    "    x=transformed_dataset.x_train,\n",
    "    y=transformed_dataset.y_train,\n",
    "    loss=F.cross_entropy,\n",
    "    optimizer=optimizer,\n",
    "    scheduler=scheduler,\n",
    "    num_epochs=num_epochs,\n",
    "    batch_size=16,\n",
    ")"
   ]
  },
  {
   "cell_type": "markdown",
   "id": "b3345522",
   "metadata": {},
   "source": [
    "A short visual inspection yields that all labels of the test set are now classified correctly. This can be verified with the following"
   ]
  },
  {
   "cell_type": "code",
   "execution_count": 14,
   "id": "08f1cba4",
   "metadata": {},
   "outputs": [
    {
     "data": {
      "text/plain": [
       "<sklearn.metrics._plot.confusion_matrix.ConfusionMatrixDisplay at 0x7ff50a7fa6e0>"
      ]
     },
     "execution_count": 14,
     "metadata": {},
     "output_type": "execute_result"
    },
    {
     "data": {
      "image/png": "[encoded data removed]",
      "text/plain": [
       "<Figure size 432x288 with 2 Axes>"
      ]
     },
     "metadata": {
      "needs_background": "light"
     },
     "output_type": "display_data"
    }
   ],
   "source": [
    "from sklearn.metrics import confusion_matrix, ConfusionMatrixDisplay\n",
    "pred_y_train = np.argmax(nn(transformed_dataset.x_train).detach(), axis=1)\n",
    "pred_y_test = np.argmax(nn(transformed_dataset.x_test).detach(), axis=1)\n",
    "\n",
    "cm = confusion_matrix(dataset.y_test, pred_y_test)\n",
    "disp = ConfusionMatrixDisplay(confusion_matrix=cm)\n",
    "disp.plot()"
   ]
  },
  {
   "cell_type": "markdown",
   "id": "5332e2b4",
   "metadata": {},
   "source": [
    "As one can see the accuracy is very close to 100% for the selected model."
   ]
  },
  {
   "cell_type": "markdown",
   "id": "45dbdd1e",
   "metadata": {},
   "source": [
    "## Calculating influences for small neural networks\n",
    "\n",
    "The following section elaborates the calculation of influences through a neural network. It is noteworthy that the full Hessian matrix is constructed and used for inverting the gradients. This can only be achieved for small networks. In the case of a big network additionally conjugate gradient has to be used to perform approximate inversion. The influences for both the train and test set are calculated"
   ]
  },
  {
   "cell_type": "code",
   "execution_count": 15,
   "id": "218d0983",
   "metadata": {},
   "outputs": [],
   "source": [
    "from valuation.influence.general import influences\n",
    "\n",
    "inversion_method = \"direct\" # cg for big networks\n",
    "\n",
    "#test_influences = influences(model, transformed_dataset.x_test, transformed_dataset.y_test, inversion_method=inversion_method)\n",
    "train_influences = influences(nn, F.cross_entropy, transformed_dataset, inversion_method=inversion_method)"
   ]
  },
  {
   "cell_type": "markdown",
   "id": "d48f40ba",
   "metadata": {},
   "source": [
    "by the preceding code snippet. Subsequently, the mean absolute influence of one train sample onto all test samples is calculated by"
   ]
  },
  {
   "cell_type": "code",
   "execution_count": 16,
   "id": "9169c2dc",
   "metadata": {},
   "outputs": [],
   "source": [
    "mean_influences = lambda arr: np.mean(np.abs(arr), axis=0)\n",
    "mean_train_influences = mean_influences(train_influences)\n",
    "# mean_test_influences = mean_influences(test_influences)"
   ]
  },
  {
   "cell_type": "code",
   "execution_count": 17,
   "id": "84630985",
   "metadata": {},
   "outputs": [
    {
     "data": {
      "text/plain": [
       "36"
      ]
     },
     "execution_count": 17,
     "metadata": {},
     "output_type": "execute_result"
    }
   ],
   "source": [
    "len(transformed_dataset.y_test)"
   ]
  },
  {
   "cell_type": "code",
   "execution_count": 18,
   "id": "4c29986d",
   "metadata": {},
   "outputs": [
    {
     "data": {
      "text/plain": [
       "(36, 142)"
      ]
     },
     "execution_count": 18,
     "metadata": {},
     "output_type": "execute_result"
    }
   ],
   "source": [
    "train_influences.shape"
   ]
  },
  {
   "cell_type": "markdown",
   "id": "774b81fc",
   "metadata": {},
   "source": [
    "a visual inspection yields that there are indeed different influential samples.\n",
    "\n",
    "## Keeping the most influential samples\n",
    "\n",
    "Using the pyDVL library, the next section selects the most influential samples and retrains the model using the shortened dataset. This is done over the number of samples to showcase how the weighted F1-score changes."
   ]
  },
  {
   "cell_type": "code",
   "execution_count": 28,
   "id": "3581bdbe",
   "metadata": {},
   "outputs": [
    {
     "data": {
      "text/plain": [
       "'Iteration 1/29'"
      ]
     },
     "metadata": {},
     "output_type": "display_data"
    },
    {
     "data": {
      "text/plain": [
       "'Iteration 2/29'"
      ]
     },
     "metadata": {},
     "output_type": "display_data"
    },
    {
     "data": {
      "text/plain": [
       "'Iteration 3/29'"
      ]
     },
     "metadata": {},
     "output_type": "display_data"
    },
    {
     "data": {
      "text/plain": [
       "'Iteration 4/29'"
      ]
     },
     "metadata": {},
     "output_type": "display_data"
    },
    {
     "data": {
      "text/plain": [
       "'Iteration 5/29'"
      ]
     },
     "metadata": {},
     "output_type": "display_data"
    },
    {
     "ename": "KeyboardInterrupt",
     "evalue": "",
     "output_type": "error",
     "traceback": [
      "\u001b[0;31m---------------------------------------------------------------------------\u001b[0m",
      "\u001b[0;31mKeyboardInterrupt\u001b[0m                         Traceback (most recent call last)",
      "\u001b[1;32m/Users/fabio/Desktop/valuation/notebooks/neural_networks_using_influence_functions.ipynb Cell 15\u001b[0m in \u001b[0;36m<cell line: 10>\u001b[0;34m()\u001b[0m\n\u001b[1;32m     <a href='vscode-notebook-cell:/Users/fabio/Desktop/valuation/notebooks/neural_networks_using_influence_functions.ipynb#X20sZmlsZQ%3D%3D?line=20'>21</a>\u001b[0m optimizer \u001b[39m=\u001b[39m Adam(params\u001b[39m=\u001b[39mnn\u001b[39m.\u001b[39mparameters(), lr\u001b[39m=\u001b[39m \u001b[39m0.001\u001b[39m, weight_decay\u001b[39m=\u001b[39m \u001b[39m0.001\u001b[39m)\n\u001b[1;32m     <a href='vscode-notebook-cell:/Users/fabio/Desktop/valuation/notebooks/neural_networks_using_influence_functions.ipynb#X20sZmlsZQ%3D%3D?line=21'>22</a>\u001b[0m scheduler \u001b[39m=\u001b[39m lr_scheduler\u001b[39m.\u001b[39mCosineAnnealingLR(optimizer, T_max\u001b[39m=\u001b[39mnum_epochs)\n\u001b[0;32m---> <a href='vscode-notebook-cell:/Users/fabio/Desktop/valuation/notebooks/neural_networks_using_influence_functions.ipynb#X20sZmlsZQ%3D%3D?line=23'>24</a>\u001b[0m fit_torch_model(\n\u001b[1;32m     <a href='vscode-notebook-cell:/Users/fabio/Desktop/valuation/notebooks/neural_networks_using_influence_functions.ipynb#X20sZmlsZQ%3D%3D?line=24'>25</a>\u001b[0m     model\u001b[39m=\u001b[39;49mnn,\n\u001b[1;32m     <a href='vscode-notebook-cell:/Users/fabio/Desktop/valuation/notebooks/neural_networks_using_influence_functions.ipynb#X20sZmlsZQ%3D%3D?line=25'>26</a>\u001b[0m     x\u001b[39m=\u001b[39;49mtransformed_dataset\u001b[39m.\u001b[39;49mx_train,\n\u001b[1;32m     <a href='vscode-notebook-cell:/Users/fabio/Desktop/valuation/notebooks/neural_networks_using_influence_functions.ipynb#X20sZmlsZQ%3D%3D?line=26'>27</a>\u001b[0m     y\u001b[39m=\u001b[39;49mtransformed_dataset\u001b[39m.\u001b[39;49my_train,\n\u001b[1;32m     <a href='vscode-notebook-cell:/Users/fabio/Desktop/valuation/notebooks/neural_networks_using_influence_functions.ipynb#X20sZmlsZQ%3D%3D?line=27'>28</a>\u001b[0m     loss\u001b[39m=\u001b[39;49mF\u001b[39m.\u001b[39;49mcross_entropy,\n\u001b[1;32m     <a href='vscode-notebook-cell:/Users/fabio/Desktop/valuation/notebooks/neural_networks_using_influence_functions.ipynb#X20sZmlsZQ%3D%3D?line=28'>29</a>\u001b[0m     optimizer\u001b[39m=\u001b[39;49moptimizer,\n\u001b[1;32m     <a href='vscode-notebook-cell:/Users/fabio/Desktop/valuation/notebooks/neural_networks_using_influence_functions.ipynb#X20sZmlsZQ%3D%3D?line=29'>30</a>\u001b[0m     scheduler\u001b[39m=\u001b[39;49mscheduler,\n\u001b[1;32m     <a href='vscode-notebook-cell:/Users/fabio/Desktop/valuation/notebooks/neural_networks_using_influence_functions.ipynb#X20sZmlsZQ%3D%3D?line=30'>31</a>\u001b[0m     num_epochs\u001b[39m=\u001b[39;49mnum_epochs,\n\u001b[1;32m     <a href='vscode-notebook-cell:/Users/fabio/Desktop/valuation/notebooks/neural_networks_using_influence_functions.ipynb#X20sZmlsZQ%3D%3D?line=31'>32</a>\u001b[0m     batch_size\u001b[39m=\u001b[39;49m\u001b[39m32\u001b[39;49m,\n\u001b[1;32m     <a href='vscode-notebook-cell:/Users/fabio/Desktop/valuation/notebooks/neural_networks_using_influence_functions.ipynb#X20sZmlsZQ%3D%3D?line=32'>33</a>\u001b[0m )\n\u001b[1;32m     <a href='vscode-notebook-cell:/Users/fabio/Desktop/valuation/notebooks/neural_networks_using_influence_functions.ipynb#X20sZmlsZQ%3D%3D?line=34'>35</a>\u001b[0m pred_y_test \u001b[39m=\u001b[39m np\u001b[39m.\u001b[39margmax(shortened_nn(transformed_dataset\u001b[39m.\u001b[39mx_test)\u001b[39m.\u001b[39mdetach(), axis\u001b[39m=\u001b[39m\u001b[39m1\u001b[39m)\n\u001b[1;32m     <a href='vscode-notebook-cell:/Users/fabio/Desktop/valuation/notebooks/neural_networks_using_influence_functions.ipynb#X20sZmlsZQ%3D%3D?line=35'>36</a>\u001b[0m summed_metric \u001b[39m+\u001b[39m\u001b[39m=\u001b[39m f1_score(shortened_dataset\u001b[39m.\u001b[39my_test, pred_y_test, average\u001b[39m=\u001b[39m\u001b[39m\"\u001b[39m\u001b[39mweighted\u001b[39m\u001b[39m\"\u001b[39m)\n",
      "File \u001b[0;32m~/Desktop/valuation/src/valuation/influence/model_wrappers/torch_wrappers.py:70\u001b[0m, in \u001b[0;36mfit_torch_model\u001b[0;34m(model, x, y, loss, optimizer, scheduler, num_epochs, batch_size)\u001b[0m\n\u001b[1;32m     67\u001b[0m pred_y \u001b[39m=\u001b[39m model(batch_x)\n\u001b[1;32m     68\u001b[0m loss_value \u001b[39m=\u001b[39m loss(torch\u001b[39m.\u001b[39msqueeze(pred_y), torch\u001b[39m.\u001b[39msqueeze(batch_y))\n\u001b[0;32m---> 70\u001b[0m logger\u001b[39m.\u001b[39;49mdebug(\u001b[39mf\u001b[39;49m\u001b[39m\"\u001b[39;49m\u001b[39mEpoch: \u001b[39;49m\u001b[39m{\u001b[39;49;00mepoch\u001b[39m}\u001b[39;49;00m\u001b[39m ---> Training loss: \u001b[39;49m\u001b[39m{\u001b[39;49;00mloss_value\u001b[39m.\u001b[39;49mitem()\u001b[39m}\u001b[39;49;00m\u001b[39m\"\u001b[39;49m)\n\u001b[1;32m     71\u001b[0m loss_value\u001b[39m.\u001b[39mbackward()\n\u001b[1;32m     72\u001b[0m optimizer\u001b[39m.\u001b[39mstep()\n",
      "File \u001b[0;32m~/miniconda3/envs/data_shapley/lib/python3.10/logging/__init__.py:1465\u001b[0m, in \u001b[0;36mLogger.debug\u001b[0;34m(self, msg, *args, **kwargs)\u001b[0m\n\u001b[1;32m   1456\u001b[0m \u001b[39m\"\"\"\u001b[39;00m\n\u001b[1;32m   1457\u001b[0m \u001b[39mLog 'msg % args' with severity 'DEBUG'.\u001b[39;00m\n\u001b[1;32m   1458\u001b[0m \n\u001b[0;32m   (...)\u001b[0m\n\u001b[1;32m   1462\u001b[0m \u001b[39mlogger.debug(\"Houston, we have a %s\", \"thorny problem\", exc_info=1)\u001b[39;00m\n\u001b[1;32m   1463\u001b[0m \u001b[39m\"\"\"\u001b[39;00m\n\u001b[1;32m   1464\u001b[0m \u001b[39mif\u001b[39;00m \u001b[39mself\u001b[39m\u001b[39m.\u001b[39misEnabledFor(DEBUG):\n\u001b[0;32m-> 1465\u001b[0m     \u001b[39mself\u001b[39;49m\u001b[39m.\u001b[39;49m_log(DEBUG, msg, args, \u001b[39m*\u001b[39;49m\u001b[39m*\u001b[39;49mkwargs)\n",
      "File \u001b[0;32m~/miniconda3/envs/data_shapley/lib/python3.10/logging/__init__.py:1622\u001b[0m, in \u001b[0;36mLogger._log\u001b[0;34m(self, level, msg, args, exc_info, extra, stack_info, stacklevel)\u001b[0m\n\u001b[1;32m   1620\u001b[0m     \u001b[39melif\u001b[39;00m \u001b[39mnot\u001b[39;00m \u001b[39misinstance\u001b[39m(exc_info, \u001b[39mtuple\u001b[39m):\n\u001b[1;32m   1621\u001b[0m         exc_info \u001b[39m=\u001b[39m sys\u001b[39m.\u001b[39mexc_info()\n\u001b[0;32m-> 1622\u001b[0m record \u001b[39m=\u001b[39m \u001b[39mself\u001b[39;49m\u001b[39m.\u001b[39;49mmakeRecord(\u001b[39mself\u001b[39;49m\u001b[39m.\u001b[39;49mname, level, fn, lno, msg, args,\n\u001b[1;32m   1623\u001b[0m                          exc_info, func, extra, sinfo)\n\u001b[1;32m   1624\u001b[0m \u001b[39mself\u001b[39m\u001b[39m.\u001b[39mhandle(record)\n",
      "File \u001b[0;32m~/miniconda3/envs/data_shapley/lib/python3.10/logging/__init__.py:1591\u001b[0m, in \u001b[0;36mLogger.makeRecord\u001b[0;34m(self, name, level, fn, lno, msg, args, exc_info, func, extra, sinfo)\u001b[0m\n\u001b[1;32m   1585\u001b[0m \u001b[39mdef\u001b[39;00m \u001b[39mmakeRecord\u001b[39m(\u001b[39mself\u001b[39m, name, level, fn, lno, msg, args, exc_info,\n\u001b[1;32m   1586\u001b[0m                func\u001b[39m=\u001b[39m\u001b[39mNone\u001b[39;00m, extra\u001b[39m=\u001b[39m\u001b[39mNone\u001b[39;00m, sinfo\u001b[39m=\u001b[39m\u001b[39mNone\u001b[39;00m):\n\u001b[1;32m   1587\u001b[0m     \u001b[39m\"\"\"\u001b[39;00m\n\u001b[1;32m   1588\u001b[0m \u001b[39m    A factory method which can be overridden in subclasses to create\u001b[39;00m\n\u001b[1;32m   1589\u001b[0m \u001b[39m    specialized LogRecords.\u001b[39;00m\n\u001b[1;32m   1590\u001b[0m \u001b[39m    \"\"\"\u001b[39;00m\n\u001b[0;32m-> 1591\u001b[0m     rv \u001b[39m=\u001b[39m _logRecordFactory(name, level, fn, lno, msg, args, exc_info, func,\n\u001b[1;32m   1592\u001b[0m                          sinfo)\n\u001b[1;32m   1593\u001b[0m     \u001b[39mif\u001b[39;00m extra \u001b[39mis\u001b[39;00m \u001b[39mnot\u001b[39;00m \u001b[39mNone\u001b[39;00m:\n\u001b[1;32m   1594\u001b[0m         \u001b[39mfor\u001b[39;00m key \u001b[39min\u001b[39;00m extra:\n",
      "File \u001b[0;32m~/miniconda3/envs/data_shapley/lib/python3.10/logging/__init__.py:340\u001b[0m, in \u001b[0;36mLogRecord.__init__\u001b[0;34m(self, name, level, pathname, lineno, msg, args, exc_info, func, sinfo, **kwargs)\u001b[0m\n\u001b[1;32m    338\u001b[0m \u001b[39melse\u001b[39;00m:\n\u001b[1;32m    339\u001b[0m     \u001b[39mself\u001b[39m\u001b[39m.\u001b[39mprocessName \u001b[39m=\u001b[39m \u001b[39m'\u001b[39m\u001b[39mMainProcess\u001b[39m\u001b[39m'\u001b[39m\n\u001b[0;32m--> 340\u001b[0m     mp \u001b[39m=\u001b[39m sys\u001b[39m.\u001b[39;49mmodules\u001b[39m.\u001b[39;49mget(\u001b[39m'\u001b[39;49m\u001b[39mmultiprocessing\u001b[39;49m\u001b[39m'\u001b[39;49m)\n\u001b[1;32m    341\u001b[0m     \u001b[39mif\u001b[39;00m mp \u001b[39mis\u001b[39;00m \u001b[39mnot\u001b[39;00m \u001b[39mNone\u001b[39;00m:\n\u001b[1;32m    342\u001b[0m         \u001b[39m# Errors may occur if multiprocessing has not finished loading\u001b[39;00m\n\u001b[1;32m    343\u001b[0m         \u001b[39m# yet - e.g. if a custom import hook causes third-party code\u001b[39;00m\n\u001b[1;32m    344\u001b[0m         \u001b[39m# to run when multiprocessing calls import. See issue 8200\u001b[39;00m\n\u001b[1;32m    345\u001b[0m         \u001b[39m# for an example\u001b[39;00m\n\u001b[1;32m    346\u001b[0m         \u001b[39mtry\u001b[39;00m:\n",
      "\u001b[0;31mKeyboardInterrupt\u001b[0m: "
     ]
    }
   ],
   "source": [
    "from IPython.core.display_functions import display\n",
    "from sklearn.metrics import f1_score\n",
    "import pandas as pd\n",
    "\n",
    "num_estimates_per_samples = 5\n",
    "min_num_samples = 1\n",
    "metrics = {}\n",
    "x_range = range(min_num_samples, len(dataset), 5)\n",
    "\n",
    "for i, num_shortened_samples in enumerate(x_range):\n",
    "    display(f\"Iteration {i+1}/{len(x_range)}\")\n",
    "    summed_metric = 0\n",
    "\n",
    "    for j in range(num_estimates_per_samples):\n",
    "        idx = np.argsort(mean_train_influences)[:num_shortened_samples]\n",
    "        shortened_dataset = copy(transformed_dataset)\n",
    "        shortened_dataset.x_train = shortened_dataset.x_train[idx]\n",
    "        shortened_dataset.y_train = shortened_dataset.y_train[idx]\n",
    "        shortened_nn = TorchNeuralNetwork(feature_dimension, num_classes, network_size)\n",
    "        shortened_nn.to(device)\n",
    "        optimizer = Adam(params=nn.parameters(), lr= 0.001, weight_decay= 0.001)\n",
    "        scheduler = lr_scheduler.CosineAnnealingLR(optimizer, T_max=num_epochs)\n",
    "\n",
    "        fit_torch_model(\n",
    "            model=nn,\n",
    "            x=transformed_dataset.x_train,\n",
    "            y=transformed_dataset.y_train,\n",
    "            loss=F.cross_entropy,\n",
    "            optimizer=optimizer,\n",
    "            scheduler=scheduler,\n",
    "            num_epochs=num_epochs,\n",
    "            batch_size=32,\n",
    "        )\n",
    "        \n",
    "        pred_y_test = np.argmax(shortened_nn(transformed_dataset.x_test).detach(), axis=1)\n",
    "        summed_metric += f1_score(shortened_dataset.y_test, pred_y_test, average=\"weighted\")\n",
    "\n",
    "    metrics[num_shortened_samples] = summed_metric / num_estimates_per_samples"
   ]
  },
  {
   "cell_type": "markdown",
   "id": "1093bb27",
   "metadata": {},
   "source": [
    "Note, how the model is created completely new and is not derived from the previous model. This section showcases how to use the influence calculations The notebook finishes by plotting"
   ]
  },
  {
   "cell_type": "code",
   "execution_count": 30,
   "id": "420849a4",
   "metadata": {},
   "outputs": [
    {
     "data": {
      "image/png": "[encoded data removed]",
      "text/plain": [
       "<Figure size 432x288 with 1 Axes>"
      ]
     },
     "metadata": {
      "needs_background": "light"
     },
     "output_type": "display_data"
    }
   ],
   "source": [
    "import matplotlib.pyplot as plt\n",
    "\n",
    "plt.figure()\n",
    "metrics = pd.Series(metrics)\n",
    "metrics.plot(xlabel=\"#samples\", ylabel=\"F1 score\", title=\"Weighted F1-Score over test set for number of most influential samples.\")\n",
    "hline_kwargs = {\n",
    "    \"linestyle\": \"--\",\n",
    "    \"color\": \"black\"\n",
    "}\n",
    "plt.axhline(0.0, **hline_kwargs)\n",
    "plt.axhline(1.0, **hline_kwargs)\n",
    "plt.show()"
   ]
  },
  {
   "cell_type": "markdown",
   "id": "66293554",
   "metadata": {},
   "source": [
    "the optimal number of samples on the x-axis along with the weighted F1-score on the y-axis."
   ]
  },
  {
   "cell_type": "code",
   "execution_count": 31,
   "id": "9cdab62f",
   "metadata": {},
   "outputs": [
    {
     "data": {
      "text/plain": [
       "'The optimal number of samples is 11'"
      ]
     },
     "execution_count": 31,
     "metadata": {},
     "output_type": "execute_result"
    }
   ],
   "source": [
    "optimal_number_of_samples = metrics.index[metrics.argmax()]\n",
    "f\"The optimal number of samples is {optimal_number_of_samples}\""
   ]
  },
  {
   "cell_type": "markdown",
   "id": "214e26cf",
   "metadata": {},
   "source": [
    "Over multiple runs with different the optimal number of samples canges, but it can be said to be safe to remove around 30% of the samples of the wine dataset to easily achieve the same data accuracy."
   ]
  }
 ],
 "metadata": {
  "kernelspec": {
   "display_name": "Python 3.10.4 ('data_shapley')",
   "language": "python",
   "name": "python3"
  },
  "language_info": {
   "codemirror_mode": {
    "name": "ipython",
    "version": 3
   },
   "file_extension": ".py",
   "mimetype": "text/x-python",
   "name": "python",
   "nbconvert_exporter": "python",
   "pygments_lexer": "ipython3",
   "version": "3.10.4"
  },
  "vscode": {
   "interpreter": {
    "hash": "4e000971326892723e7f31ded70802f690c31c3620f59a0f99e594aaee3047ef"
   }
  }
 },
 "nbformat": 4,
 "nbformat_minor": 5
}

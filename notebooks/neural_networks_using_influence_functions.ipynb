{
 "cells": [
  {
   "cell_type": "markdown",
   "id": "a75acfec",
   "metadata": {},
   "source": [
    "# Clean dataset using influence functions and neural networks\n",
    "\n",
    "A dataset usually consists of a lot of data points, while not all data points are equally important for achieving the desired accuracy. Sometimes it is necessary to speed up the gradient calculations or optimize the required RAM. Example applications are reinforcement learning or continuous optimal control tasks. This notebook\n",
    "\n",
    "- shows how to calculate influences using the pyDVL library of an arbitrary (usually called training) set of data samples $X_\\text{train} \\subseteq \\mathbb{R}^d$ onto a test set $X_\\text{test} \\subseteq \\mathbb{R}^d$.\n",
    "- shows a plot with the weighted F1-score on the y-axis and the number of samples on the x-axis.\n",
    "- selects the optimal number of samples for the dataset as induced by the influence functions.\n",
    "\n",
    "First, an arbitrary random dataset can be loaded or created using the ```utils.dataset.Dataset``` class. For showcase purposes the wine dataset is used. It can be loaded (as any other compatible dataset) directly from sklearn."
   ]
  },
  {
   "cell_type": "code",
   "execution_count": 2,
   "id": "be813151",
   "metadata": {},
   "outputs": [],
   "source": [
    "from sklearn.datasets import load_wine\n",
    "from valuation.utils.dataset import Dataset\n",
    "\n",
    "wine_bunch = load_wine(as_frame=True)\n",
    "dataset = Dataset.from_sklearn(wine_bunch)"
   ]
  },
  {
   "cell_type": "markdown",
   "id": "a018e72c",
   "metadata": {},
   "source": [
    "## Fit a neural network to the data\n",
    "\n",
    "First, a 2-layer neural network is created and fitted with pyDVL. This can be achieved by the following code snippet. It creates a 2-layer neural network with 16 neurons in each hidden layer."
   ]
  },
  {
   "cell_type": "code",
   "execution_count": 22,
   "id": "00dc59af",
   "metadata": {},
   "outputs": [],
   "source": [
    "from copy import copy\n",
    "import torch\n",
    "from valuation.influence.model_wrappers import TorchNeuralNetwork, fit_torch_model\n",
    "import torch.nn.functional as F\n",
    "from sklearn.preprocessing import MinMaxScaler\n",
    "from torch.optim import Adam, lr_scheduler\n",
    "import numpy as np\n",
    "\n",
    "x_transformer = MinMaxScaler()\n",
    "\n",
    "transformed_dataset = copy(dataset)\n",
    "x_train = x_transformer.fit_transform(transformed_dataset.x_train)\n",
    "transformed_dataset.x_train = torch.tensor(x_train, dtype=torch.float)\n",
    "transformed_dataset.y_train = torch.tensor(transformed_dataset.y_train, dtype=torch.long)\n",
    "x_test = x_transformer.transform(transformed_dataset.x_test)\n",
    "transformed_dataset.y_test = torch.tensor(transformed_dataset.y_test, dtype=torch.long)\n",
    "transformed_dataset.x_test = torch.tensor(x_test, dtype=torch.float)\n",
    "feature_dimension = transformed_dataset.x_train.shape[1]\n",
    "unique_classes = np.unique(np.concatenate((dataset.y_train, dataset.y_test)))\n",
    "num_classes = len(unique_classes)\n",
    "network_size = [16, 16]\n",
    "num_epochs = 300\n",
    "device = torch.device(\"cuda:0\" if torch.cuda.is_available() else \"cpu\")\n",
    "\n",
    "nn = TorchNeuralNetwork(feature_dimension, num_classes, network_size)\n",
    "nn.to(device)\n",
    "optimizer = Adam(params=nn.parameters(), lr= 0.001, weight_decay= 0.001)\n",
    "scheduler = lr_scheduler.CosineAnnealingLR(optimizer, T_max=num_epochs)\n",
    "\n",
    "fit_torch_model(\n",
    "    model=nn,\n",
    "    x=transformed_dataset.x_train,\n",
    "    y=transformed_dataset.y_train,\n",
    "    loss=F.cross_entropy,\n",
    "    optimizer=optimizer,\n",
    "    scheduler=scheduler,\n",
    "    num_epochs=num_epochs,\n",
    "    batch_size=32,\n",
    ")"
   ]
  },
  {
   "cell_type": "markdown",
   "id": "b3345522",
   "metadata": {},
   "source": [
    "A short visual inspection yields that all labels of the test set are now classified correctly. This can be verified with the following"
   ]
  },
  {
   "cell_type": "code",
   "execution_count": 23,
   "id": "08f1cba4",
   "metadata": {},
   "outputs": [
    {
     "data": {
      "text/plain": [
       "<sklearn.metrics._plot.confusion_matrix.ConfusionMatrixDisplay at 0x7f883d4d9420>"
      ]
     },
     "execution_count": 23,
     "metadata": {},
     "output_type": "execute_result"
    },
    {
     "data": {
      "image/png": "[encoded data removed]",
      "text/plain": [
       "<Figure size 432x288 with 2 Axes>"
      ]
     },
     "metadata": {
      "needs_background": "light"
     },
     "output_type": "display_data"
    }
   ],
   "source": [
    "from sklearn.metrics import confusion_matrix, ConfusionMatrixDisplay\n",
    "pred_y_train = np.argmax(nn(transformed_dataset.x_train).detach(), axis=1)\n",
    "pred_y_test = np.argmax(nn(transformed_dataset.x_test).detach(), axis=1)\n",
    "\n",
    "cm = confusion_matrix(dataset.y_test, pred_y_test)\n",
    "disp = ConfusionMatrixDisplay(confusion_matrix=cm)\n",
    "disp.plot()"
   ]
  },
  {
   "cell_type": "markdown",
   "id": "5332e2b4",
   "metadata": {},
   "source": [
    "As one can see the accuracy is very close to 100% for the selected model."
   ]
  },
  {
   "cell_type": "markdown",
   "id": "45dbdd1e",
   "metadata": {},
   "source": [
    "## Calculating influences for small neural networks\n",
    "\n",
    "The following section elaborates the calculation of influences through a neural network. It is noteworthy that the full Hessian matrix is constructed and used for inverting the gradients. This can only be achieved for small networks. In the case of a big network additionally conjugate gradient has to be used to perform approximate inversion. The influences for both the train and test set are calculated"
   ]
  },
  {
   "cell_type": "code",
   "execution_count": 24,
   "id": "218d0983",
   "metadata": {},
   "outputs": [],
   "source": [
    "from valuation.influence.general import influences\n",
    "\n",
    "inversion_method = \"direct\" # cg for big networks\n",
    "\n",
    "#test_influences = influences(model, transformed_dataset.x_test, transformed_dataset.y_test, inversion_method=inversion_method)\n",
    "train_influences = influences(nn, F.cross_entropy, transformed_dataset, inversion_method=inversion_method)"
   ]
  },
  {
   "cell_type": "markdown",
   "id": "d48f40ba",
   "metadata": {},
   "source": [
    "by the preceding code snippet. Subsequently, the mean absolute influence of one train sample onto all test samples is calculated by"
   ]
  },
  {
   "cell_type": "code",
   "execution_count": 25,
   "id": "9169c2dc",
   "metadata": {},
   "outputs": [],
   "source": [
    "mean_influences = lambda arr: np.mean(np.abs(arr), axis=0)\n",
    "mean_train_influences = mean_influences(train_influences)\n",
    "# mean_test_influences = mean_influences(test_influences)"
   ]
  },
  {
   "cell_type": "code",
   "execution_count": 26,
   "id": "84630985",
   "metadata": {},
   "outputs": [
    {
     "data": {
      "text/plain": [
       "36"
      ]
     },
     "execution_count": 26,
     "metadata": {},
     "output_type": "execute_result"
    }
   ],
   "source": [
    "len(transformed_dataset.y_test)"
   ]
  },
  {
   "cell_type": "code",
   "execution_count": 27,
   "id": "4c29986d",
   "metadata": {},
   "outputs": [
    {
     "data": {
      "text/plain": [
       "(36, 142)"
      ]
     },
     "execution_count": 27,
     "metadata": {},
     "output_type": "execute_result"
    }
   ],
   "source": [
    "train_influences.shape"
   ]
  },
  {
   "cell_type": "markdown",
   "id": "774b81fc",
   "metadata": {},
   "source": [
    "a visual inspection yields that there are indeed different influential samples.\n",
    "\n",
    "## Keeping the most influential samples\n",
    "\n",
    "Using the pyDVL library, the next section selects the most influential samples and retrains the model using the shortened dataset. This is done over the number of samples to showcase how the weighted F1-score changes."
   ]
  },
  {
   "cell_type": "code",
   "execution_count": null,
   "id": "3581bdbe",
   "metadata": {},
   "outputs": [],
   "source": [
    "from IPython.core.display_functions import display\n",
    "from sklearn.metrics import f1_score\n",
    "import pandas as pd\n",
    "\n",
    "num_estimates_per_samples = 5\n",
    "min_num_samples = 1\n",
    "metrics = {}\n",
    "x_range = range(min_num_samples, len(dataset), 5)\n",
    "\n",
    "for i, num_shortened_samples in enumerate(x_range):\n",
    "    display(f\"Iteration {i+1}/{len(x_range)}\")\n",
    "    summed_metric = 0\n",
    "\n",
    "    for j in range(num_estimates_per_samples):\n",
    "        idx = np.flip(np.argsort(mean_train_influences))[:num_shortened_samples]\n",
    "        shortened_dataset = copy(transformed_dataset)\n",
    "        shortened_dataset.x_train = shortened_dataset.x_train[idx]\n",
    "        shortened_dataset.y_train = shortened_dataset.y_train[idx]\n",
    "        shortened_model = TorchModule(\n",
    "            model=NeuralNetworkTorchModel(feature_dimension, num_classes, network_size),\n",
    "            objective=TorchObjective(F.cross_entropy, \"long\"),\n",
    "            num_epochs=300,\n",
    "            batch_size=32,\n",
    "            optimizer=TorchOptimizer.ADAM,\n",
    "            optimizer_kwargs={\n",
    "                \"lr\": 0.001,\n",
    "                \"weight_decay\": 0.001,\n",
    "                \"cosine_annealing\": True,\n",
    "            }\n",
    "        )\n",
    "        shortened_model.fit(\n",
    "            shortened_dataset.x_train,\n",
    "            shortened_dataset.y_train\n",
    "        )\n",
    "        pred_y_test = np.argmax(shortened_model.predict(transformed_dataset.x_test), axis=1)\n",
    "        summed_metric += f1_score(shortened_dataset.y_test, pred_y_test, average=\"weighted\")\n",
    "\n",
    "    metrics[num_shortened_samples] = summed_metric / num_estimates_per_samples\n",
    "\n",
    "metrics = pd.Series(metrics)"
   ]
  },
  {
   "cell_type": "markdown",
   "id": "1093bb27",
   "metadata": {},
   "source": [
    "Note, how the model is created completely new and is not derived from the previous model. This section showcases how to use the influence calculations The notebook finishes by plotting"
   ]
  },
  {
   "cell_type": "code",
   "execution_count": null,
   "id": "420849a4",
   "metadata": {},
   "outputs": [],
   "source": [
    "import matplotlib.pyplot as plt\n",
    "\n",
    "plt.figure()\n",
    "metrics.plot(xlabel=\"#samples\", ylabel=\"F1 score\", title=\"Weighted F1-Score over test set for number of most influential samples.\")\n",
    "hline_kwargs = {\n",
    "    \"linestyle\": \"--\",\n",
    "    \"color\": \"black\"\n",
    "}\n",
    "plt.axhline(0.0, **hline_kwargs)\n",
    "plt.axhline(1.0, **hline_kwargs)\n",
    "plt.show()"
   ]
  },
  {
   "cell_type": "markdown",
   "id": "66293554",
   "metadata": {},
   "source": [
    "the optimal number of samples on the x-axis along with the weighted F1-score on the y-axis."
   ]
  },
  {
   "cell_type": "code",
   "execution_count": null,
   "id": "9cdab62f",
   "metadata": {},
   "outputs": [],
   "source": [
    "optimal_number_of_samples = metrics.index[metrics.argmax()]\n",
    "f\"The optimal number of samples is {optimal_number_of_samples}\""
   ]
  },
  {
   "cell_type": "markdown",
   "id": "214e26cf",
   "metadata": {},
   "source": [
    "Over multiple runs with different the optimal number of samples canges, but it can be said to be safe to remove around 30% of the samples of the wine dataset to easily achieve the same data accuracy."
   ]
  }
 ],
 "metadata": {
  "kernelspec": {
   "display_name": "Python 3",
   "language": "python",
   "name": "python3"
  },
  "language_info": {
   "codemirror_mode": {
    "name": "ipython",
    "version": 3
   },
   "file_extension": ".py",
   "mimetype": "text/x-python",
   "name": "python",
   "nbconvert_exporter": "python",
   "pygments_lexer": "ipython3",
   "version": "3.9.4"
  }
 },
 "nbformat": 4,
 "nbformat_minor": 5
}

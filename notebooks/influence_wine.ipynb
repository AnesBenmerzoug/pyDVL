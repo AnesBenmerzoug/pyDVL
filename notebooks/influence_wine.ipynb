{
 "cells": [
  {
   "cell_type": "markdown",
   "id": "a75acfec",
   "metadata": {},
   "source": [
    "# Clean dataset using influence functions and neural networks\n",
    "\n",
    "This notebook shows how to use influence functions to clean a dataset from noisy or anomalous data-points. In particular:\n",
    "\n",
    "- it shows how to calculate influences using pyDVL for an arbitrary dataset of data samples $X_\\text{train} \\subseteq \\mathbb{R}^d$ given a test set $X_\\text{test} \\subseteq \\mathbb{R}^d$.\n",
    "- it then shows that choosing a training subsets among the highest-influence points can achieve the same accuracy with much less training steps.\n",
    "\n",
    "In this example we will use the wine dataset from sklearn."
   ]
  },
  {
   "cell_type": "code",
   "execution_count": 2,
   "id": "be813151",
   "metadata": {},
   "outputs": [
    {
     "name": "stderr",
     "output_type": "stream",
     "text": [
      "/Users/fabio/miniconda3/envs/data_shapley/lib/python3.10/site-packages/tqdm/auto.py:22: TqdmWarning: IProgress not found. Please update jupyter and ipywidgets. See https://ipywidgets.readthedocs.io/en/stable/user_install.html\n",
      "  from .autonotebook import tqdm as notebook_tqdm\n"
     ]
    }
   ],
   "source": [
    "from sklearn.datasets import load_wine\n",
    "from valuation.utils.dataset import Dataset\n",
    "\n",
    "wine_bunch = load_wine(as_frame=True)\n",
    "dataset = Dataset.from_sklearn(wine_bunch)"
   ]
  },
  {
   "cell_type": "markdown",
   "id": "d2041eb3",
   "metadata": {},
   "source": [
    "Let's now import all the most important methods"
   ]
  },
  {
   "cell_type": "code",
   "execution_count": 3,
   "id": "25e48cb7",
   "metadata": {},
   "outputs": [],
   "source": [
    "from copy import copy\n",
    "import torch\n",
    "from valuation.influence.model_wrappers import TorchNeuralNetwork, fit_torch_model\n",
    "import torch.nn.functional as F\n",
    "from sklearn.preprocessing import MinMaxScaler\n",
    "from torch.optim import Adam, lr_scheduler\n",
    "import numpy as np\n",
    "from sklearn.metrics import confusion_matrix, ConfusionMatrixDisplay, f1_score"
   ]
  },
  {
   "cell_type": "markdown",
   "id": "a018e72c",
   "metadata": {},
   "source": [
    "## Fit a neural network to the data\n",
    "\n",
    "First, let's create a 2-layer neural network. PyDVL has some convenience wrappers to initialize a pytorch NN. If you already have a model loaded and trained, you can skip this section."
   ]
  },
  {
   "cell_type": "code",
   "execution_count": 4,
   "id": "00dc59af",
   "metadata": {},
   "outputs": [
    {
     "ename": "",
     "evalue": "",
     "output_type": "error",
     "traceback": [
      "\u001b[1;31mCanceled future for execute_request message before replies were done"
     ]
    },
    {
     "ename": "",
     "evalue": "",
     "output_type": "error",
     "traceback": [
      "\u001b[1;31mThe Kernel crashed while executing code in the the current cell or a previous cell. Please review the code in the cell(s) to identify a possible cause of the failure. Click <a href='https://aka.ms/vscodeJupyterKernelCrash'>here</a> for more info. View Jupyter <a href='command:jupyter.viewOutput'>log</a> for further details."
     ]
    }
   ],
   "source": [
    "x_transformer = MinMaxScaler()\n",
    "\n",
    "transformed_dataset = copy(dataset)\n",
    "x_train = x_transformer.fit_transform(transformed_dataset.x_train)\n",
    "transformed_dataset.x_train = torch.tensor(x_train, dtype=torch.float)\n",
    "transformed_dataset.y_train = torch.tensor(transformed_dataset.y_train, dtype=torch.long)\n",
    "x_test = x_transformer.transform(transformed_dataset.x_test)\n",
    "transformed_dataset.y_test = torch.tensor(transformed_dataset.y_test, dtype=torch.long)\n",
    "transformed_dataset.x_test = torch.tensor(x_test, dtype=torch.float)\n",
    "feature_dimension = transformed_dataset.x_train.shape[1]\n",
    "unique_classes = np.unique(np.concatenate((dataset.y_train, dataset.y_test)))\n",
    "num_classes = len(unique_classes)\n",
    "network_size = [16, 16]\n",
    "num_epochs = 300\n",
    "device = torch.device(\"cuda:0\" if torch.cuda.is_available() else \"cpu\")\n",
    "\n",
    "nn = TorchNeuralNetwork(feature_dimension, num_classes, network_size)\n",
    "nn.to(device)\n",
    "optimizer = Adam(params=nn.parameters(), lr= 0.001, weight_decay= 0.001)\n",
    "scheduler = lr_scheduler.CosineAnnealingLR(optimizer, T_max=num_epochs)\n",
    "\n",
    "fit_torch_model(\n",
    "    model=nn,\n",
    "    x=transformed_dataset.x_train,\n",
    "    y=transformed_dataset.y_train,\n",
    "    loss=F.cross_entropy,\n",
    "    optimizer=optimizer,\n",
    "    scheduler=scheduler,\n",
    "    num_epochs=num_epochs,\n",
    "    batch_size=16,\n",
    ")"
   ]
  },
  {
   "cell_type": "markdown",
   "id": "b3345522",
   "metadata": {},
   "source": [
    "A short visual inspection yields that all labels of the test set are now classified correctly. This can be verified with the following"
   ]
  },
  {
   "cell_type": "code",
   "execution_count": 14,
   "id": "08f1cba4",
   "metadata": {},
   "outputs": [
    {
     "data": {
      "text/plain": [
       "<sklearn.metrics._plot.confusion_matrix.ConfusionMatrixDisplay at 0x7ff50a7fa6e0>"
      ]
     },
     "execution_count": 14,
     "metadata": {},
     "output_type": "execute_result"
    },
    {
     "data": {
      "image/png": "[encoded data removed]",
      "text/plain": [
       "<Figure size 432x288 with 2 Axes>"
      ]
     },
     "metadata": {
      "needs_background": "light"
     },
     "output_type": "display_data"
    }
   ],
   "source": [
    "pred_y_train = np.argmax(nn(transformed_dataset.x_train).detach(), axis=1)\n",
    "pred_y_test = np.argmax(nn(transformed_dataset.x_test).detach(), axis=1)\n",
    "\n",
    "cm = confusion_matrix(dataset.y_test, pred_y_test)\n",
    "disp = ConfusionMatrixDisplay(confusion_matrix=cm)\n",
    "disp.plot()"
   ]
  },
  {
   "cell_type": "markdown",
   "id": "5332e2b4",
   "metadata": {},
   "source": [
    "Let's now move to calculating influences of each point on the total score."
   ]
  },
  {
   "cell_type": "markdown",
   "id": "45dbdd1e",
   "metadata": {},
   "source": [
    "## Calculating influences for small neural networks\n",
    "\n",
    "The following cell calculates the influences of each training data-point on the neural network error. \n",
    "The calculation of the Hessian matrix (necessary to calculate the influences) can be quite numerically challenging, but there are some techniques to speed up the calculation. PyDVL allows to use the full method (\"direct\") or the conjugate gradient method (\"cg\"). The first one should be used only for very small networks (like our current example), while for bigger ones \"cg\" is advisable."
   ]
  },
  {
   "cell_type": "code",
   "execution_count": 36,
   "id": "218d0983",
   "metadata": {},
   "outputs": [],
   "source": [
    "from valuation.influence.general import influences\n",
    "\n",
    "inversion_method = \"direct\" # cg for big networks\n",
    "\n",
    "train_influences = influences(nn, F.cross_entropy, transformed_dataset, inversion_method=inversion_method)"
   ]
  },
  {
   "cell_type": "markdown",
   "id": "d48f40ba",
   "metadata": {},
   "source": [
    "Let's now inspect the data type and values returned by the influences method"
   ]
  },
  {
   "cell_type": "code",
   "execution_count": 38,
   "id": "e266affb",
   "metadata": {},
   "outputs": [
    {
     "data": {
      "text/plain": [
       "(36, 142)"
      ]
     },
     "execution_count": 38,
     "metadata": {},
     "output_type": "execute_result"
    }
   ],
   "source": [
    "train_influences.shape"
   ]
  },
  {
   "cell_type": "markdown",
   "id": "4153c7db",
   "metadata": {},
   "source": [
    "We have a numpy array with one row per test data-point, and one column per train data-point. Each value of the matrix, $a_{i,j}$, represents the influence of the $j$-th training data-point on the $i$-th test data-point. If we take the average across every column, we obtain an estimate of the overall influence of a training point on the total accuracy of the network."
   ]
  },
  {
   "cell_type": "code",
   "execution_count": 39,
   "id": "9169c2dc",
   "metadata": {},
   "outputs": [],
   "source": [
    "mean_influences = lambda arr: np.mean(np.abs(arr), axis=0)\n",
    "mean_train_influences = mean_influences(train_influences)"
   ]
  },
  {
   "cell_type": "markdown",
   "id": "b5e254ad",
   "metadata": {},
   "source": [
    "How are these influences distributed across points? Are all points as influential? The following histogram shows that there are big differences in score within the training set (notice the log-scale on the y axis)."
   ]
  },
  {
   "cell_type": "code",
   "execution_count": 1,
   "id": "233a57da",
   "metadata": {},
   "outputs": [
    {
     "ename": "NameError",
     "evalue": "name 'mean_train_influences' is not defined",
     "output_type": "error",
     "traceback": [
      "\u001b[0;31m---------------------------------------------------------------------------\u001b[0m",
      "\u001b[0;31mNameError\u001b[0m                                 Traceback (most recent call last)",
      "\u001b[1;32m/Users/fabio/Desktop/valuation/notebooks/influence_wine.ipynb Cell 17\u001b[0m in \u001b[0;36m<cell line: 2>\u001b[0;34m()\u001b[0m\n\u001b[1;32m      <a href='vscode-notebook-cell:/Users/fabio/Desktop/valuation/notebooks/influence_wine.ipynb#X51sZmlsZQ%3D%3D?line=0'>1</a>\u001b[0m \u001b[39mimport\u001b[39;00m \u001b[39mmatplotlib\u001b[39;00m\u001b[39m.\u001b[39;00m\u001b[39mpyplot\u001b[39;00m \u001b[39mas\u001b[39;00m \u001b[39mplt\u001b[39;00m\n\u001b[0;32m----> <a href='vscode-notebook-cell:/Users/fabio/Desktop/valuation/notebooks/influence_wine.ipynb#X51sZmlsZQ%3D%3D?line=1'>2</a>\u001b[0m plt\u001b[39m.\u001b[39mhist(mean_train_influences, log\u001b[39m=\u001b[39m\u001b[39mTrue\u001b[39;00m)\n\u001b[1;32m      <a href='vscode-notebook-cell:/Users/fabio/Desktop/valuation/notebooks/influence_wine.ipynb#X51sZmlsZQ%3D%3D?line=2'>3</a>\u001b[0m plt\u001b[39m.\u001b[39mtitle(\u001b[39m'\u001b[39m\u001b[39mInfluece scores distribution\u001b[39m\u001b[39m'\u001b[39m)\n\u001b[1;32m      <a href='vscode-notebook-cell:/Users/fabio/Desktop/valuation/notebooks/influence_wine.ipynb#X51sZmlsZQ%3D%3D?line=3'>4</a>\u001b[0m plt\u001b[39m.\u001b[39mxlabel(\u001b[39m'\u001b[39m\u001b[39minfluece score\u001b[39m\u001b[39m'\u001b[39m)\n",
      "\u001b[0;31mNameError\u001b[0m: name 'mean_train_influences' is not defined"
     ]
    }
   ],
   "source": [
    "import matplotlib.pyplot as plt\n",
    "plt.hist(mean_train_influences, log=True)\n",
    "plt.title('Influece scores distribution')\n",
    "plt.xlabel('influece score')\n",
    "plt.ylabel('number of points')"
   ]
  },
  {
   "cell_type": "markdown",
   "id": "4df2b9af",
   "metadata": {},
   "source": [
    "It seems to be that very few points have a disproportionate impact on model performance, while the bulk of the training set can be essentially ignored: it has 0 influence score!"
   ]
  },
  {
   "cell_type": "markdown",
   "id": "774b81fc",
   "metadata": {},
   "source": [
    "## Keeping the most influential samples\n",
    "\n",
    "Let's now compare the training times and performance of two subsets of our training set, one where the points are chosen at random, and one only keeping the highest influence points. Let's start with the random subset"
   ]
  },
  {
   "cell_type": "code",
   "execution_count": 3,
   "id": "3581bdbe",
   "metadata": {},
   "outputs": [
    {
     "ename": "NameError",
     "evalue": "name 'dataset' is not defined",
     "output_type": "error",
     "traceback": [
      "\u001b[0;31m---------------------------------------------------------------------------\u001b[0m",
      "\u001b[0;31mNameError\u001b[0m                                 Traceback (most recent call last)",
      "\u001b[1;32m/Users/fabio/Desktop/valuation/notebooks/influence_wine.ipynb Cell 20\u001b[0m in \u001b[0;36m<cell line: 1>\u001b[0;34m()\u001b[0m\n\u001b[0;32m----> <a href='vscode-notebook-cell:/Users/fabio/Desktop/valuation/notebooks/influence_wine.ipynb#X20sZmlsZQ%3D%3D?line=0'>1</a>\u001b[0m random_idxs \u001b[39m=\u001b[39m np\u001b[39m.\u001b[39mrandom\u001b[39m.\u001b[39mpermutation(\u001b[39mlist\u001b[39m(\u001b[39mrange\u001b[39m(\u001b[39mlen\u001b[39m(dataset\u001b[39m.\u001b[39mx_train))))[:\u001b[39m50\u001b[39m]\n\u001b[1;32m      <a href='vscode-notebook-cell:/Users/fabio/Desktop/valuation/notebooks/influence_wine.ipynb#X20sZmlsZQ%3D%3D?line=1'>2</a>\u001b[0m random_subset_x_train \u001b[39m=\u001b[39m transformed_dataset\u001b[39m.\u001b[39mx_train[random_idxs]\n\u001b[1;32m      <a href='vscode-notebook-cell:/Users/fabio/Desktop/valuation/notebooks/influence_wine.ipynb#X20sZmlsZQ%3D%3D?line=2'>3</a>\u001b[0m random_subset_y_train \u001b[39m=\u001b[39m transformed_dataset\u001b[39m.\u001b[39my_train[random_idxs]\n",
      "\u001b[0;31mNameError\u001b[0m: name 'dataset' is not defined"
     ]
    }
   ],
   "source": [
    "random_idxs = np.random.permutation(list(range(len(dataset.x_train))))[:50]\n",
    "random_subset_x_train = transformed_dataset.x_train[random_idxs]\n",
    "random_subset_y_train = transformed_dataset.y_train[random_idxs]\n",
    "\n",
    "nn_random_ds = TorchNeuralNetwork(feature_dimension, num_classes, network_size)\n",
    "\n",
    "fit_torch_model(\n",
    "    model=nn_random_ds,\n",
    "    x=random_subset_x_train,\n",
    "    y=random_subset_y_train,\n",
    "    loss=F.cross_entropy,\n",
    "    optimizer=optimizer,\n",
    "    scheduler=scheduler,\n",
    "    num_epochs=num_epochs,\n",
    "    batch_size=16,\n",
    ")"
   ]
  },
  {
   "cell_type": "markdown",
   "id": "698dcb95",
   "metadata": {},
   "source": [
    "and now let's take the top influence function data-points"
   ]
  },
  {
   "cell_type": "code",
   "execution_count": null,
   "id": "aa0d6670",
   "metadata": {},
   "outputs": [],
   "source": [
    "top_influece_idxs = np.argsort(mean_train_influences)[:50]\n",
    "top_influence_x_train = transformed_dataset.x_train[top_influece_idxs]\n",
    "top_influence_y_train = transformed_dataset.y_train[top_influece_idxs]\n",
    "\n",
    "nn_top_influences_ds = TorchNeuralNetwork(feature_dimension, num_classes, network_size)\n",
    "\n",
    "fit_torch_model(\n",
    "    model=nn_top_influences_ds,\n",
    "    x=top_influence_x_train,\n",
    "    y=top_influence_y_train,\n",
    "    loss=F.cross_entropy,\n",
    "    optimizer=optimizer,\n",
    "    scheduler=scheduler,\n",
    "    num_epochs=num_epochs,\n",
    "    batch_size=16,\n",
    ")\n",
    "\n",
    "f1_score(transformed_dataset.y_test, pred_y_test, average=\"weighted\")"
   ]
  }
 ],
 "metadata": {
  "kernelspec": {
   "display_name": "Python 3.10.4 ('data_shapley')",
   "language": "python",
   "name": "python3"
  },
  "language_info": {
   "codemirror_mode": {
    "name": "ipython",
    "version": 3
   },
   "file_extension": ".py",
   "mimetype": "text/x-python",
   "name": "python",
   "nbconvert_exporter": "python",
   "pygments_lexer": "ipython3",
   "version": "3.10.4"
  },
  "vscode": {
   "interpreter": {
    "hash": "4e000971326892723e7f31ded70802f690c31c3620f59a0f99e594aaee3047ef"
   }
  }
 },
 "nbformat": 4,
 "nbformat_minor": 5
}

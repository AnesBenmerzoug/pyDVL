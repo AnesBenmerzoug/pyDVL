{
 "cells": [
  {
   "cell_type": "markdown",
   "id": "a75acfec",
   "metadata": {},
   "source": [
    "# Clean dataset using influence functions and neural networks\n",
    "\n",
    "This notebook shows how to use influence functions to isolate anomalous data points in any given training dataset. In particular:\n",
    "\n",
    "- it shows how to calculate influences using pyDVL for an arbitrary dataset of data samples given a test set.\n",
    "- it shows that corrupted data-points tend to have negative influence on a model\n",
    "\n",
    "We will use the wine dataset from sklearn. In this setting, the model will be given a set of 13 different parameters, which describes physical properties of each type of wine, such as from concentration of magnesium, malic acidity, alcoholic percentage, etc. For each wine type, then, the model will need to predict to which of 3 classes it belongs to. For more details, please refer to the [sklearn documentation](https://scikit-learn.org/stable/datasets/toy_dataset.html#wine-recognition-dataset)."
   ]
  },
  {
   "cell_type": "markdown",
   "id": "68ec440b",
   "metadata": {},
   "source": [
    "Let's start by loading the imports, the dataset and splitting it into train, validation and test sets. We will use a large test set to have a less noisy estimate of the average influence."
   ]
  },
  {
   "cell_type": "code",
   "execution_count": 1,
   "id": "be813151",
   "metadata": {},
   "outputs": [],
   "source": [
    "from valuation.utils.dataset import Dataset, load_wine_dataset\n",
    "from sklearn.model_selection import train_test_split\n",
    "import matplotlib.pyplot as plt\n",
    "import torch\n",
    "from valuation.influence.model_wrappers import TorchNeuralNetwork, fit_torch_model\n",
    "import torch.nn.functional as F\n",
    "from torch.optim import Adam, lr_scheduler\n",
    "import numpy as np\n",
    "from sklearn.metrics import confusion_matrix, ConfusionMatrixDisplay, f1_score\n",
    "\n",
    "random_seed = 42\n",
    "torch.manual_seed(random_seed)\n",
    "train_ds, val_ds, test_ds = load_wine_dataset(train_size = 0.30, test_size=0.6, random_seed=random_seed)"
   ]
  },
  {
   "cell_type": "markdown",
   "id": "c031bdaa",
   "metadata": {
    "slideshow": {
     "slide_type": "slide"
    }
   },
   "source": [
    "Will will take the first 10 datapoints of the training set and introduce some mislabellings."
   ]
  },
  {
   "cell_type": "code",
   "execution_count": 2,
   "id": "7ba944f8",
   "metadata": {},
   "outputs": [],
   "source": [
    "train_ds[1][:10] = torch.Tensor([(value + 1)%3 for value in train_ds[1][:10]])"
   ]
  },
  {
   "cell_type": "markdown",
   "id": "a018e72c",
   "metadata": {},
   "source": [
    "## Fit a neural network to the data\n",
    "\n",
    "We will train a 2-layer neural network. PyDVL has some convenience wrappers to initialize a pytorch NN. If you already have a model loaded and trained, you can skip this section."
   ]
  },
  {
   "cell_type": "code",
   "execution_count": 3,
   "id": "00dc59af",
   "metadata": {},
   "outputs": [],
   "source": [
    "feature_dimension = train_ds[0].shape[1]\n",
    "unique_classes = np.unique(np.concatenate((train_ds[1], test_ds[1])))\n",
    "num_classes = len(unique_classes)\n",
    "network_size = [4, 4]\n",
    "\n",
    "num_epochs = 1000\n",
    "lr = 0.01\n",
    "weight_decay=0.01\n",
    "device = torch.device(\"cuda:0\" if torch.cuda.is_available() else \"cpu\")\n",
    "\n",
    "nn = TorchNeuralNetwork(feature_dimension, num_classes, network_size)\n",
    "nn.to(device)\n",
    "optimizer = Adam(params=nn.parameters(), lr=lr, weight_decay=weight_decay)\n",
    "scheduler = lr_scheduler.CosineAnnealingLR(optimizer, T_max=num_epochs)\n",
    "\n",
    "train_loss, val_loss = fit_torch_model(\n",
    "    model = nn,\n",
    "    x_train = train_ds[0],\n",
    "    y_train = train_ds[1],\n",
    "    x_val = val_ds[0],\n",
    "    y_val = val_ds[1],\n",
    "    loss=F.cross_entropy,\n",
    "    optimizer=optimizer,\n",
    "    scheduler=scheduler,\n",
    "    num_epochs=num_epochs,\n",
    "    batch_size=16,\n",
    ")"
   ]
  },
  {
   "cell_type": "markdown",
   "id": "1a3ba188",
   "metadata": {},
   "source": [
    "Let's check that the training has found a stable minimum by plotting the train and validation loss"
   ]
  },
  {
   "cell_type": "code",
   "execution_count": 4,
   "id": "f4b57b77",
   "metadata": {},
   "outputs": [
    {
     "data": {
      "image/png": "[encoded data removed]",
      "text/plain": [
       "<Figure size 432x288 with 1 Axes>"
      ]
     },
     "metadata": {
      "needs_background": "light"
     },
     "output_type": "display_data"
    }
   ],
   "source": [
    "plt.plot(train_loss, label='train')\n",
    "plt.plot(val_loss, label='val')\n",
    "plt.legend()\n",
    "plt.show()"
   ]
  },
  {
   "cell_type": "markdown",
   "id": "b3345522",
   "metadata": {},
   "source": [
    "Since it is a classification problem, let's also take a look at the confusion matrix on the test set"
   ]
  },
  {
   "cell_type": "code",
   "execution_count": 5,
   "id": "08f1cba4",
   "metadata": {},
   "outputs": [
    {
     "data": {
      "text/plain": [
       "<sklearn.metrics._plot.confusion_matrix.ConfusionMatrixDisplay at 0x7f8517cd5520>"
      ]
     },
     "execution_count": 5,
     "metadata": {},
     "output_type": "execute_result"
    },
    {
     "data": {
      "image/png": "[encoded data removed]",
      "text/plain": [
       "<Figure size 432x288 with 2 Axes>"
      ]
     },
     "metadata": {
      "needs_background": "light"
     },
     "output_type": "display_data"
    }
   ],
   "source": [
    "pred_y_test = np.argmax(nn(test_ds[0]).detach(), axis=1)\n",
    "\n",
    "cm = confusion_matrix(test_ds[1], pred_y_test)\n",
    "disp = ConfusionMatrixDisplay(confusion_matrix=cm)\n",
    "disp.plot()"
   ]
  },
  {
   "cell_type": "markdown",
   "id": "cca76db8",
   "metadata": {},
   "source": [
    "And let's compute the f1 score of the model"
   ]
  },
  {
   "cell_type": "code",
   "execution_count": 6,
   "id": "ca48f9d5",
   "metadata": {},
   "outputs": [
    {
     "data": {
      "text/plain": [
       "0.9058575338275502"
      ]
     },
     "execution_count": 6,
     "metadata": {},
     "output_type": "execute_result"
    }
   ],
   "source": [
    "f1_score(test_ds[1], pred_y_test, average=\"weighted\")"
   ]
  },
  {
   "cell_type": "markdown",
   "id": "5332e2b4",
   "metadata": {},
   "source": [
    "Let's now move to calculating influences of each point on the total score."
   ]
  },
  {
   "cell_type": "markdown",
   "id": "45dbdd1e",
   "metadata": {},
   "source": [
    "## Calculating influences for small neural networks\n",
    "\n",
    "The following cell calculates the influences of each training data-point on the neural network error. \n",
    "The calculation of the Hessian matrix (necessary to calculate the influences) can be quite numerically challenging, but there are some techniques to speed up the calculation. PyDVL allows to use the full method (\"direct\") or the conjugate gradient method (\"cg\"). The first one should be used only for very small networks (like our current example), while for bigger ones \"cg\" is advisable."
   ]
  },
  {
   "cell_type": "code",
   "execution_count": 7,
   "id": "218d0983",
   "metadata": {},
   "outputs": [],
   "source": [
    "from valuation.influence.general import influences\n",
    "\n",
    "inversion_method = \"direct\" # cg for big networks\n",
    "\n",
    "train_influences = influences(nn, F.cross_entropy, \n",
    "                              *train_ds, *test_ds,\n",
    "                              inversion_method=inversion_method)"
   ]
  },
  {
   "cell_type": "markdown",
   "id": "ce21c2dc",
   "metadata": {},
   "source": [
    "the returned matrix, train_influences, has a quantity of columns equal to the points in the training set, and a number of rows equal to the points in the test set. At each element $a_{i,j}$ it stores the influence that training point $j$ has on the classification of test point $i$."
   ]
  },
  {
   "cell_type": "markdown",
   "id": "4153c7db",
   "metadata": {},
   "source": [
    "If we take the average across every column of the influences matrix, we obtain an estimate of the overall influence of a training point on the total accuracy of the network."
   ]
  },
  {
   "cell_type": "code",
   "execution_count": 8,
   "id": "9169c2dc",
   "metadata": {},
   "outputs": [],
   "source": [
    "mean_train_influences = np.mean(train_influences, axis=0)"
   ]
  },
  {
   "cell_type": "markdown",
   "id": "b5e254ad",
   "metadata": {},
   "source": [
    "The following histogram shows that there are big differences in score within the training set (notice the log-scale on the y axis). In orange, you can see the distribution of the training data-points which have been corrupted."
   ]
  },
  {
   "cell_type": "code",
   "execution_count": 9,
   "id": "233a57da",
   "metadata": {},
   "outputs": [
    {
     "data": {
      "text/plain": [
       "Text(0, 0.5, 'number of points')"
      ]
     },
     "execution_count": 9,
     "metadata": {},
     "output_type": "execute_result"
    },
    {
     "data": {
      "image/png": "[encoded data removed]",
      "text/plain": [
       "<Figure size 432x288 with 1 Axes>"
      ]
     },
     "metadata": {
      "needs_background": "light"
     },
     "output_type": "display_data"
    }
   ],
   "source": [
    "plt.hist(mean_train_influences, log=True)\n",
    "plt.hist(mean_train_influences[:10], log=True)\n",
    "plt.title('Influece scores distribution')\n",
    "plt.xlabel('influece score')\n",
    "plt.ylabel('number of points')"
   ]
  },
  {
   "cell_type": "markdown",
   "id": "4df2b9af",
   "metadata": {},
   "source": [
    "From the plot, it looks indeed like the corrupted data-points tend to have a negative influence (on average) on the predictions on the test set. This is confirmed if we calculate the average mean influence between the good vs the corrupted points"
   ]
  },
  {
   "cell_type": "code",
   "execution_count": 10,
   "id": "f3cf0b2a",
   "metadata": {},
   "outputs": [
    {
     "name": "stdout",
     "output_type": "stream",
     "text": [
      "average influce of corrupted data points: -0.45614067\n"
     ]
    }
   ],
   "source": [
    "print(\"average influce of corrupted data points:\", np.mean(mean_train_influences[:10]))"
   ]
  },
  {
   "cell_type": "code",
   "execution_count": 11,
   "id": "04cd6873",
   "metadata": {},
   "outputs": [
    {
     "name": "stdout",
     "output_type": "stream",
     "text": [
      "average influce of good data points: 0.33070636\n"
     ]
    }
   ],
   "source": [
    "print(\"average influce of good data points:\", np.mean(mean_train_influences[10:]))"
   ]
  },
  {
   "cell_type": "markdown",
   "id": "cc27f78c",
   "metadata": {},
   "source": [
    "# Conjugate Gradient and beyond in PyDVL"
   ]
  },
  {
   "cell_type": "markdown",
   "id": "9245791c",
   "metadata": {},
   "source": [
    "This was a quick introduction to influence functions and how they could help you in your projects. Give it a try! For example you can try with a bigger neural network and using conjugate gradient for the calculation of influence functions. This can me done in the following way "
   ]
  },
  {
   "cell_type": "code",
   "execution_count": 12,
   "id": "450acac2",
   "metadata": {},
   "outputs": [],
   "source": [
    "train_influences = influences(nn, F.cross_entropy, \n",
    "                              *train_ds, *test_ds,\n",
    "                              inversion_method='cg', \n",
    "                              inversion_method_kwargs={'max_iterations' : 10, 'max_step_size':0.01})"
   ]
  },
  {
   "cell_type": "markdown",
   "id": "e802d2d3",
   "metadata": {},
   "source": [
    "where max_iterations and max_step_size and yet another set of hyperparameters that need to be tuned to obtain a good estimate."
   ]
  },
  {
   "cell_type": "markdown",
   "id": "4d563f8e",
   "metadata": {},
   "source": [
    "Finally, despite their speed and simplicity, influence functions are known to be a very noisy estimator of data quality, pointed out in the paper [\"Influence functions in deep learning are fragile\"](https://arxiv.org/abs/2006.14651). The size of the network, the weight decay, the inversion method used for calculating influences, the amount of points in your test set: they all add up to the total amount of noise in the influence values. Experiments may therefore give qualitative different results. Shapley values, on the contrary, have shown to be a more robust estimate of data quality, but this comes at the cost of high computational requirements. PyDVL employs several parallelisation and caching techniques to optimise such calculations."
   ]
  }
 ],
 "metadata": {
  "kernelspec": {
   "display_name": "Python 3",
   "language": "python",
   "name": "python3"
  },
  "language_info": {
   "codemirror_mode": {
    "name": "ipython",
    "version": 3
   },
   "file_extension": ".py",
   "mimetype": "text/x-python",
   "name": "python",
   "nbconvert_exporter": "python",
   "pygments_lexer": "ipython3",
   "version": "3.9.4"
  },
  "vscode": {
   "interpreter": {
    "hash": "4e000971326892723e7f31ded70802f690c31c3620f59a0f99e594aaee3047ef"
   }
  }
 },
 "nbformat": 4,
 "nbformat_minor": 5
}

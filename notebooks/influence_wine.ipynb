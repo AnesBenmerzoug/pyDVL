{
 "cells": [
  {
   "cell_type": "markdown",
   "id": "a75acfec",
   "metadata": {},
   "source": [
    "# Clean dataset using influence functions and neural networks\n",
    "\n",
    "This notebook shows how to use influence functions to clean a dataset from noisy or anomalous data-points. In particular:\n",
    "\n",
    "- it shows how to calculate influences using pyDVL for an arbitrary dataset of data samples $X_\\text{train} \\subseteq \\mathbb{R}^d$ given a test set $X_\\text{test} \\subseteq \\mathbb{R}^d$.\n",
    "- it then shows that choosing a training subsets among the highest-influence points can achieve the same accuracy with much less training steps.\n",
    "\n",
    "In this example we will use the wine dataset from sklearn."
   ]
  },
  {
   "cell_type": "code",
   "execution_count": 1,
   "id": "be813151",
   "metadata": {},
   "outputs": [],
   "source": [
    "from sklearn.datasets import load_wine\n",
    "from valuation.utils.dataset import Dataset\n",
    "from sklearn.model_selection import train_test_split\n",
    "import matplotlib.pyplot as plt\n",
    "\n",
    "wine_bunch = load_wine(as_frame=True)\n",
    "x, x_test, y, y_test = train_test_split(\n",
    "            wine_bunch.data, wine_bunch.target, train_size=0.5,\n",
    "        )\n",
    "x_train, x_val, y_train, y_val = train_test_split(\n",
    "            x, y, train_size=0.8,\n",
    "        )\n",
    "# print(y_train[:90].values)\n",
    "# y_train[:90] = [(value +1)%3 for value in y_train[:90]]\n",
    "# print(y_train[:90].values)"
   ]
  },
  {
   "cell_type": "markdown",
   "id": "d2041eb3",
   "metadata": {},
   "source": [
    "Let's now import all the most important methods"
   ]
  },
  {
   "cell_type": "code",
   "execution_count": 2,
   "id": "25e48cb7",
   "metadata": {},
   "outputs": [],
   "source": [
    "from copy import copy\n",
    "import torch\n",
    "from valuation.influence.model_wrappers import TorchNeuralNetwork, fit_torch_model\n",
    "import torch.nn.functional as F\n",
    "from sklearn.preprocessing import MinMaxScaler\n",
    "from torch.optim import Adam, lr_scheduler\n",
    "import numpy as np\n",
    "from sklearn.metrics import confusion_matrix, ConfusionMatrixDisplay, f1_score"
   ]
  },
  {
   "cell_type": "markdown",
   "id": "a018e72c",
   "metadata": {},
   "source": [
    "## Fit a neural network to the data\n",
    "\n",
    "First, let's create a 2-layer neural network. PyDVL has some convenience wrappers to initialize a pytorch NN. If you already have a model loaded and trained, you can skip this section."
   ]
  },
  {
   "cell_type": "code",
   "execution_count": 3,
   "id": "00dc59af",
   "metadata": {},
   "outputs": [],
   "source": [
    "x_transformer = MinMaxScaler()\n",
    "\n",
    "transformed_x_train = x_transformer.fit_transform(x_train)\n",
    "transformed_x_test = x_transformer.transform(x_test)\n",
    "\n",
    "transformed_x_train = torch.tensor(transformed_x_train, dtype=torch.float)\n",
    "transformed_y_train = torch.tensor(y_train.to_numpy(), dtype=torch.long)\n",
    "\n",
    "transformed_x_test = torch.tensor(transformed_x_test, dtype=torch.float)\n",
    "transformed_y_test = torch.tensor(y_test.to_numpy(), dtype=torch.long)\n",
    "\n",
    "transformed_x_val = x_transformer.transform(x_val)\n",
    "transformed_x_val = torch.tensor(transformed_x_val, dtype=torch.float)\n",
    "transformed_y_val = torch.tensor(y_val.to_numpy(), dtype=torch.long)\n",
    "\n",
    "feature_dimension = x_train.shape[1]\n",
    "unique_classes = np.unique(np.concatenate((y_train, y_test)))\n",
    "num_classes = len(unique_classes)\n",
    "network_size = [16, 16]\n",
    "\n",
    "num_epochs = 1000\n",
    "lr = 0.001\n",
    "weight_decay=0.001\n",
    "device = torch.device(\"cuda:0\" if torch.cuda.is_available() else \"cpu\")\n",
    "\n",
    "nn = TorchNeuralNetwork(feature_dimension, num_classes, network_size)\n",
    "nn.to(device)\n",
    "optimizer = Adam(params=nn.parameters(), lr=lr, weight_decay=weight_decay)\n",
    "scheduler = lr_scheduler.CosineAnnealingLR(optimizer, T_max=num_epochs)\n",
    "\n",
    "train_loss, val_loss = fit_torch_model(\n",
    "    model=nn,\n",
    "    x_train=transformed_x_train,\n",
    "    y_train=transformed_y_train,\n",
    "    x_val = transformed_x_val,\n",
    "    y_val = transformed_y_val,\n",
    "    loss=F.cross_entropy,\n",
    "    optimizer=optimizer,\n",
    "    scheduler=scheduler,\n",
    "    num_epochs=num_epochs,\n",
    "    batch_size=16,\n",
    ")"
   ]
  },
  {
   "cell_type": "code",
   "execution_count": 4,
   "id": "f4b57b77",
   "metadata": {},
   "outputs": [
    {
     "data": {
      "image/png": "[encoded data removed]",
      "text/plain": [
       "<Figure size 432x288 with 1 Axes>"
      ]
     },
     "metadata": {
      "needs_background": "light"
     },
     "output_type": "display_data"
    }
   ],
   "source": [
    "plt.plot(train_loss, label='train')\n",
    "plt.plot(val_loss, label='val')\n",
    "plt.legend()\n",
    "plt.show()"
   ]
  },
  {
   "cell_type": "markdown",
   "id": "b3345522",
   "metadata": {},
   "source": [
    "A short visual inspection yields that all labels of the test set are now classified correctly. This can be verified with the following"
   ]
  },
  {
   "cell_type": "code",
   "execution_count": 5,
   "id": "08f1cba4",
   "metadata": {},
   "outputs": [
    {
     "data": {
      "text/plain": [
       "<sklearn.metrics._plot.confusion_matrix.ConfusionMatrixDisplay at 0x7fb89ccec940>"
      ]
     },
     "execution_count": 5,
     "metadata": {},
     "output_type": "execute_result"
    },
    {
     "data": {
      "image/png": "[encoded data removed]",
      "text/plain": [
       "<Figure size 432x288 with 2 Axes>"
      ]
     },
     "metadata": {
      "needs_background": "light"
     },
     "output_type": "display_data"
    }
   ],
   "source": [
    "pred_y_test = np.argmax(nn(transformed_x_test).detach(), axis=1)\n",
    "\n",
    "cm = confusion_matrix(transformed_y_test, pred_y_test)\n",
    "disp = ConfusionMatrixDisplay(confusion_matrix=cm)\n",
    "disp.plot()"
   ]
  },
  {
   "cell_type": "markdown",
   "id": "cca76db8",
   "metadata": {},
   "source": [
    "Let's also look at the f1 score"
   ]
  },
  {
   "cell_type": "code",
   "execution_count": 6,
   "id": "ca48f9d5",
   "metadata": {},
   "outputs": [
    {
     "data": {
      "text/plain": [
       "0.9543379599030624"
      ]
     },
     "execution_count": 6,
     "metadata": {},
     "output_type": "execute_result"
    }
   ],
   "source": [
    "f1_score(transformed_y_test, pred_y_test, average=\"weighted\")"
   ]
  },
  {
   "cell_type": "markdown",
   "id": "5332e2b4",
   "metadata": {},
   "source": [
    "Let's now move to calculating influences of each point on the total score."
   ]
  },
  {
   "cell_type": "markdown",
   "id": "45dbdd1e",
   "metadata": {},
   "source": [
    "## Calculating influences for small neural networks\n",
    "\n",
    "The following cell calculates the influences of each training data-point on the neural network error. \n",
    "The calculation of the Hessian matrix (necessary to calculate the influences) can be quite numerically challenging, but there are some techniques to speed up the calculation. PyDVL allows to use the full method (\"direct\") or the conjugate gradient method (\"cg\"). The first one should be used only for very small networks (like our current example), while for bigger ones \"cg\" is advisable."
   ]
  },
  {
   "cell_type": "code",
   "execution_count": 7,
   "id": "218d0983",
   "metadata": {},
   "outputs": [],
   "source": [
    "from valuation.influence.general import influences\n",
    "\n",
    "inversion_method = \"direct\" # cg for big networks\n",
    "\n",
    "train_influences = influences(nn, F.cross_entropy, \n",
    "                              transformed_x_train, transformed_y_train, transformed_x_test, transformed_y_test,\n",
    "                              inversion_method=inversion_method, influence_type =\"up\",)"
   ]
  },
  {
   "cell_type": "markdown",
   "id": "d48f40ba",
   "metadata": {},
   "source": [
    "Let's now inspect the data type and values returned by the influences method"
   ]
  },
  {
   "cell_type": "code",
   "execution_count": 8,
   "id": "e266affb",
   "metadata": {},
   "outputs": [
    {
     "data": {
      "text/plain": [
       "(89, 71)"
      ]
     },
     "execution_count": 8,
     "metadata": {},
     "output_type": "execute_result"
    }
   ],
   "source": [
    "train_influences.shape"
   ]
  },
  {
   "cell_type": "markdown",
   "id": "4153c7db",
   "metadata": {},
   "source": [
    "We have a numpy array with one row per test data-point, and one column per train data-point. Each value of the matrix, $a_{i,j}$, represents the influence of the $j$-th training data-point on the $i$-th test data-point. If we take the average across every column, we obtain an estimate of the overall influence of a training point on the total accuracy of the network."
   ]
  },
  {
   "cell_type": "code",
   "execution_count": 9,
   "id": "9169c2dc",
   "metadata": {},
   "outputs": [],
   "source": [
    "mean_train_influences = np.mean(train_influences, axis=(0))"
   ]
  },
  {
   "cell_type": "markdown",
   "id": "b5e254ad",
   "metadata": {},
   "source": [
    "How are these influences distributed across points? Are all points as influential? The following histogram shows that there are big differences in score within the training set (notice the log-scale on the y axis)."
   ]
  },
  {
   "cell_type": "code",
   "execution_count": 10,
   "id": "233a57da",
   "metadata": {},
   "outputs": [
    {
     "data": {
      "text/plain": [
       "Text(0, 0.5, 'number of points')"
      ]
     },
     "execution_count": 10,
     "metadata": {},
     "output_type": "execute_result"
    },
    {
     "data": {
      "image/png": "[encoded data removed]",
      "text/plain": [
       "<Figure size 432x288 with 1 Axes>"
      ]
     },
     "metadata": {
      "needs_background": "light"
     },
     "output_type": "display_data"
    }
   ],
   "source": [
    "plt.hist(mean_train_influences, log=True)\n",
    "plt.title('Influece scores distribution')\n",
    "plt.xlabel('influece score')\n",
    "plt.ylabel('number of points')"
   ]
  },
  {
   "cell_type": "markdown",
   "id": "4df2b9af",
   "metadata": {},
   "source": [
    "It seems to be that very few points have a disproportionate impact on model performance, while the bulk of the training set can be essentially ignored: they have 0 influence score!"
   ]
  },
  {
   "cell_type": "markdown",
   "id": "774b81fc",
   "metadata": {},
   "source": [
    "## Keeping the most influential samples\n",
    "\n",
    "Let's now compare the training times and performance of two subsets of our training set, one where the points are chosen at random, and one only keeping the highest influence points. Let's start with the random subset"
   ]
  },
  {
   "cell_type": "code",
   "execution_count": 11,
   "id": "3581bdbe",
   "metadata": {},
   "outputs": [
    {
     "data": {
      "text/plain": [
       "0.9569490699536234"
      ]
     },
     "execution_count": 11,
     "metadata": {},
     "output_type": "execute_result"
    }
   ],
   "source": [
    "random_idxs = np.random.permutation(list(range(len(x_train))))[:20]\n",
    "random_subset_x_train = transformed_x_train[random_idxs]\n",
    "random_subset_y_train = transformed_y_train[random_idxs]\n",
    "\n",
    "f1_scores = []\n",
    "\n",
    "for _ in range(10):\n",
    "    nn_random_ds = TorchNeuralNetwork(feature_dimension, num_classes, network_size)\n",
    "    nn_random_ds.to(device)\n",
    "    optimizer = Adam(params=nn_random_ds.parameters(), lr=lr, weight_decay=weight_decay)\n",
    "    scheduler = lr_scheduler.CosineAnnealingLR(optimizer, T_max=num_epochs)\n",
    "    train_loss_random, val_loss_random = fit_torch_model(\n",
    "        model=nn_random_ds,\n",
    "        x_train=random_subset_x_train,\n",
    "        y_train=random_subset_y_train,\n",
    "        x_val = transformed_x_val,\n",
    "        y_val = transformed_y_val,\n",
    "        loss=F.cross_entropy,\n",
    "        optimizer=optimizer,\n",
    "        scheduler=scheduler,\n",
    "        num_epochs=num_epochs,\n",
    "        batch_size=16,\n",
    "    )\n",
    "\n",
    "    pred_y_test_random_ds = np.argmax(nn_random_ds(transformed_x_test).detach(), axis=1)\n",
    "    f1_scores.append(f1_score(transformed_y_test, pred_y_test_random_ds, average=\"weighted\"))\n",
    "np.mean(f1_scores)"
   ]
  },
  {
   "cell_type": "code",
   "execution_count": 12,
   "id": "13fe4a81",
   "metadata": {},
   "outputs": [
    {
     "data": {
      "image/png": "[encoded data removed]",
      "text/plain": [
       "<Figure size 432x288 with 1 Axes>"
      ]
     },
     "metadata": {
      "needs_background": "light"
     },
     "output_type": "display_data"
    }
   ],
   "source": [
    "plt.plot(train_loss_random, label='train')\n",
    "plt.plot(val_loss_random, label='val')\n",
    "plt.legend()\n",
    "plt.show()"
   ]
  },
  {
   "cell_type": "markdown",
   "id": "4457acab",
   "metadata": {},
   "source": [
    "and now let's take the top influence function data-points"
   ]
  },
  {
   "cell_type": "code",
   "execution_count": 13,
   "id": "aa0d6670",
   "metadata": {},
   "outputs": [
    {
     "data": {
      "text/plain": [
       "0.9820219395265513"
      ]
     },
     "execution_count": 13,
     "metadata": {},
     "output_type": "execute_result"
    }
   ],
   "source": [
    "top_influece_idxs = np.argsort(mean_train_influences)[:20]\n",
    "top_influence_x_train = transformed_x_train[top_influece_idxs]\n",
    "top_influence_y_train = transformed_y_train[top_influece_idxs]\n",
    "\n",
    "f1_scores = []\n",
    "\n",
    "for _ in range(10):\n",
    "    nn_top_influences_ds = TorchNeuralNetwork(feature_dimension, num_classes, network_size)\n",
    "    nn_top_influences_ds.to(device)\n",
    "    optimizer = Adam(params=nn_top_influences_ds.parameters(), lr=lr, weight_decay=weight_decay)\n",
    "    scheduler = lr_scheduler.CosineAnnealingLR(optimizer, T_max=num_epochs)\n",
    "    train_loss_top_if, val_loss_top_if = fit_torch_model(\n",
    "        model=nn_top_influences_ds,\n",
    "        x_train=top_influence_x_train,\n",
    "        y_train=top_influence_y_train,\n",
    "        x_val = transformed_x_val,\n",
    "        y_val = transformed_y_val,\n",
    "        loss=F.cross_entropy,\n",
    "        optimizer=optimizer,\n",
    "        scheduler=scheduler,\n",
    "        num_epochs=num_epochs,\n",
    "        batch_size=16,\n",
    "    )\n",
    "\n",
    "    pred_y_test_top_influences_ds = np.argmax(nn_top_influences_ds(transformed_x_test).detach(), axis=1)\n",
    "    f1_scores.append(f1_score(transformed_y_test, pred_y_test_top_influences_ds, average=\"weighted\"))\n",
    "np.mean(f1_scores)"
   ]
  },
  {
   "cell_type": "code",
   "execution_count": 14,
   "id": "e4aa90c0",
   "metadata": {},
   "outputs": [
    {
     "data": {
      "image/png": "[encoded data removed]",
      "text/plain": [
       "<Figure size 432x288 with 1 Axes>"
      ]
     },
     "metadata": {
      "needs_background": "light"
     },
     "output_type": "display_data"
    }
   ],
   "source": [
    "plt.plot(train_loss_top_if, label='train')\n",
    "plt.plot(val_loss_top_if, label='val')\n",
    "plt.legend()\n",
    "plt.show()"
   ]
  },
  {
   "cell_type": "code",
   "execution_count": 15,
   "id": "d9e68863",
   "metadata": {},
   "outputs": [
    {
     "data": {
      "image/png": "[encoded data removed]",
      "text/plain": [
       "<Figure size 432x288 with 1 Axes>"
      ]
     },
     "metadata": {
      "needs_background": "light"
     },
     "output_type": "display_data"
    }
   ],
   "source": [
    "plt.plot(val_loss, label='full data')\n",
    "plt.plot(val_loss_random, label='random')\n",
    "plt.plot(val_loss_top_if, label='top_if')\n",
    "plt.legend()\n",
    "plt.show()"
   ]
  }
 ],
 "metadata": {
  "kernelspec": {
   "display_name": "Python 3",
   "language": "python",
   "name": "python3"
  },
  "language_info": {
   "codemirror_mode": {
    "name": "ipython",
    "version": 3
   },
   "file_extension": ".py",
   "mimetype": "text/x-python",
   "name": "python",
   "nbconvert_exporter": "python",
   "pygments_lexer": "ipython3",
   "version": "3.9.4"
  },
  "vscode": {
   "interpreter": {
    "hash": "4e000971326892723e7f31ded70802f690c31c3620f59a0f99e594aaee3047ef"
   }
  }
 },
 "nbformat": 4,
 "nbformat_minor": 5
}

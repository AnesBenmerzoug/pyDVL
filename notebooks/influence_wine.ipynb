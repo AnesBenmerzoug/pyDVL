{
 "cells": [
  {
   "cell_type": "markdown",
   "id": "a75acfec",
   "metadata": {},
   "source": [
    "# Clean dataset using influence functions and neural networks\n",
    "\n",
    "This notebook shows how to use influence functions to clean a dataset from noisy or anomalous data-points. In particular:\n",
    "\n",
    "- it shows how to calculate influences using pyDVL for an arbitrary dataset of data samples $X_\\text{train} \\subseteq \\mathbb{R}^d$ given a test set $X_\\text{test} \\subseteq \\mathbb{R}^d$.\n",
    "- it then shows that choosing a training subsets among the highest-influence points can achieve the same accuracy with much less training steps.\n",
    "\n",
    "In this example we will use the wine dataset from sklearn."
   ]
  },
  {
   "cell_type": "code",
   "execution_count": 57,
   "id": "be813151",
   "metadata": {},
   "outputs": [],
   "source": [
    "from sklearn.datasets import load_wine\n",
    "from valuation.utils.dataset import Dataset\n",
    "\n",
    "wine_bunch = load_wine(as_frame=True)\n",
    "dataset = Dataset.from_sklearn(wine_bunch, train_size=0.4, random_state = 42)"
   ]
  },
  {
   "cell_type": "markdown",
   "id": "d2041eb3",
   "metadata": {},
   "source": [
    "Let's now import all the most important methods"
   ]
  },
  {
   "cell_type": "code",
   "execution_count": 58,
   "id": "25e48cb7",
   "metadata": {},
   "outputs": [],
   "source": [
    "from copy import copy\n",
    "import torch\n",
    "from valuation.influence.model_wrappers import TorchNeuralNetwork, fit_torch_model\n",
    "import torch.nn.functional as F\n",
    "from sklearn.preprocessing import MinMaxScaler\n",
    "from torch.optim import Adam, lr_scheduler\n",
    "import numpy as np\n",
    "from sklearn.metrics import confusion_matrix, ConfusionMatrixDisplay, f1_score"
   ]
  },
  {
   "cell_type": "markdown",
   "id": "a018e72c",
   "metadata": {},
   "source": [
    "## Fit a neural network to the data\n",
    "\n",
    "First, let's create a 2-layer neural network. PyDVL has some convenience wrappers to initialize a pytorch NN. If you already have a model loaded and trained, you can skip this section."
   ]
  },
  {
   "cell_type": "code",
   "execution_count": 59,
   "id": "00dc59af",
   "metadata": {},
   "outputs": [],
   "source": [
    "x_transformer = MinMaxScaler()\n",
    "\n",
    "transformed_dataset = copy(dataset)\n",
    "x_train = x_transformer.fit_transform(transformed_dataset.x_train)\n",
    "transformed_dataset.x_train = torch.tensor(x_train, dtype=torch.float)\n",
    "transformed_dataset.y_train = torch.tensor(transformed_dataset.y_train, dtype=torch.long)\n",
    "transformed_dataset.y_train[:20] = torch.tensor([(value +1)%3 for value in transformed_dataset.y_train[:20]])\n",
    "x_test = x_transformer.transform(transformed_dataset.x_test)\n",
    "transformed_dataset.y_test = torch.tensor(transformed_dataset.y_test, dtype=torch.long)\n",
    "transformed_dataset.x_test = torch.tensor(x_test, dtype=torch.float)\n",
    "feature_dimension = transformed_dataset.x_train.shape[1]\n",
    "unique_classes = np.unique(np.concatenate((dataset.y_train, dataset.y_test)))\n",
    "num_classes = len(unique_classes)\n",
    "network_size = [16, 16]\n",
    "num_epochs = 300\n",
    "device = torch.device(\"cuda:0\" if torch.cuda.is_available() else \"cpu\")\n",
    "\n",
    "nn = TorchNeuralNetwork(feature_dimension, num_classes, network_size)\n",
    "nn.to(device)\n",
    "optimizer = Adam(params=nn.parameters(), lr= 0.001, weight_decay= 0.001)\n",
    "scheduler = lr_scheduler.CosineAnnealingLR(optimizer, T_max=num_epochs)\n",
    "\n",
    "fit_torch_model(\n",
    "    model=nn,\n",
    "    x=transformed_dataset.x_train,\n",
    "    y=transformed_dataset.y_train,\n",
    "    loss=F.cross_entropy,\n",
    "    optimizer=optimizer,\n",
    "    scheduler=scheduler,\n",
    "    num_epochs=num_epochs,\n",
    "    batch_size=16,\n",
    ")"
   ]
  },
  {
   "cell_type": "markdown",
   "id": "b3345522",
   "metadata": {},
   "source": [
    "A short visual inspection yields that all labels of the test set are now classified correctly. This can be verified with the following"
   ]
  },
  {
   "cell_type": "code",
   "execution_count": 60,
   "id": "08f1cba4",
   "metadata": {},
   "outputs": [
    {
     "data": {
      "text/plain": [
       "<sklearn.metrics._plot.confusion_matrix.ConfusionMatrixDisplay at 0x7fb5db72a550>"
      ]
     },
     "execution_count": 60,
     "metadata": {},
     "output_type": "execute_result"
    },
    {
     "data": {
      "image/png": "[encoded data removed]",
      "text/plain": [
       "<Figure size 432x288 with 2 Axes>"
      ]
     },
     "metadata": {
      "needs_background": "light"
     },
     "output_type": "display_data"
    }
   ],
   "source": [
    "pred_y_test = np.argmax(nn(transformed_dataset.x_test).detach(), axis=1)\n",
    "\n",
    "cm = confusion_matrix(dataset.y_test, pred_y_test)\n",
    "disp = ConfusionMatrixDisplay(confusion_matrix=cm)\n",
    "disp.plot()"
   ]
  },
  {
   "cell_type": "markdown",
   "id": "cca76db8",
   "metadata": {},
   "source": [
    "Let's also look at the f1 score"
   ]
  },
  {
   "cell_type": "code",
   "execution_count": 61,
   "id": "ca48f9d5",
   "metadata": {},
   "outputs": [
    {
     "data": {
      "text/plain": [
       "0.8106957424714434"
      ]
     },
     "execution_count": 61,
     "metadata": {},
     "output_type": "execute_result"
    }
   ],
   "source": [
    "f1_score(transformed_dataset.y_test, pred_y_test, average=\"weighted\")"
   ]
  },
  {
   "cell_type": "markdown",
   "id": "5332e2b4",
   "metadata": {},
   "source": [
    "Let's now move to calculating influences of each point on the total score."
   ]
  },
  {
   "cell_type": "markdown",
   "id": "45dbdd1e",
   "metadata": {},
   "source": [
    "## Calculating influences for small neural networks\n",
    "\n",
    "The following cell calculates the influences of each training data-point on the neural network error. \n",
    "The calculation of the Hessian matrix (necessary to calculate the influences) can be quite numerically challenging, but there are some techniques to speed up the calculation. PyDVL allows to use the full method (\"direct\") or the conjugate gradient method (\"cg\"). The first one should be used only for very small networks (like our current example), while for bigger ones \"cg\" is advisable."
   ]
  },
  {
   "cell_type": "code",
   "execution_count": 62,
   "id": "218d0983",
   "metadata": {},
   "outputs": [],
   "source": [
    "from valuation.influence.general import influences\n",
    "\n",
    "inversion_method = \"direct\" # cg for big networks\n",
    "\n",
    "train_influences = influences(nn, F.cross_entropy, \n",
    "                              transformed_dataset, \n",
    "                              inversion_method=inversion_method, influence_type =\"up\",)"
   ]
  },
  {
   "cell_type": "markdown",
   "id": "d48f40ba",
   "metadata": {},
   "source": [
    "Let's now inspect the data type and values returned by the influences method"
   ]
  },
  {
   "cell_type": "code",
   "execution_count": 63,
   "id": "e266affb",
   "metadata": {},
   "outputs": [
    {
     "data": {
      "text/plain": [
       "(107, 71)"
      ]
     },
     "execution_count": 63,
     "metadata": {},
     "output_type": "execute_result"
    }
   ],
   "source": [
    "train_influences.shape"
   ]
  },
  {
   "cell_type": "markdown",
   "id": "4153c7db",
   "metadata": {},
   "source": [
    "We have a numpy array with one row per test data-point, and one column per train data-point. Each value of the matrix, $a_{i,j}$, represents the influence of the $j$-th training data-point on the $i$-th test data-point. If we take the average across every column, we obtain an estimate of the overall influence of a training point on the total accuracy of the network."
   ]
  },
  {
   "cell_type": "code",
   "execution_count": 64,
   "id": "9169c2dc",
   "metadata": {},
   "outputs": [],
   "source": [
    "mean_train_influences = np.mean(train_influences, axis=(0))"
   ]
  },
  {
   "cell_type": "code",
   "execution_count": 65,
   "id": "b1783782",
   "metadata": {},
   "outputs": [
    {
     "data": {
      "text/plain": [
       "array([ 0.15642396, -0.03581563,  1.3370508 , -0.00982239,  0.08824751,\n",
       "       -0.3208426 , -0.16624857,  1.0736413 , -0.77912617,  0.00614725],\n",
       "      dtype=float32)"
      ]
     },
     "execution_count": 65,
     "metadata": {},
     "output_type": "execute_result"
    }
   ],
   "source": [
    "mean_train_influences[:10]"
   ]
  },
  {
   "cell_type": "markdown",
   "id": "b5e254ad",
   "metadata": {},
   "source": [
    "How are these influences distributed across points? Are all points as influential? The following histogram shows that there are big differences in score within the training set (notice the log-scale on the y axis)."
   ]
  },
  {
   "cell_type": "code",
   "execution_count": 66,
   "id": "233a57da",
   "metadata": {},
   "outputs": [
    {
     "data": {
      "text/plain": [
       "Text(0, 0.5, 'number of points')"
      ]
     },
     "execution_count": 66,
     "metadata": {},
     "output_type": "execute_result"
    },
    {
     "data": {
      "image/png": "[encoded data removed]",
      "text/plain": [
       "<Figure size 432x288 with 1 Axes>"
      ]
     },
     "metadata": {
      "needs_background": "light"
     },
     "output_type": "display_data"
    }
   ],
   "source": [
    "import matplotlib.pyplot as plt\n",
    "plt.hist(mean_train_influences, log=True)\n",
    "plt.title('Influece scores distribution')\n",
    "plt.xlabel('influece score')\n",
    "plt.ylabel('number of points')"
   ]
  },
  {
   "cell_type": "markdown",
   "id": "4df2b9af",
   "metadata": {},
   "source": [
    "It seems to be that very few points have a disproportionate impact on model performance, while the bulk of the training set can be essentially ignored: they have 0 influence score!"
   ]
  },
  {
   "cell_type": "markdown",
   "id": "774b81fc",
   "metadata": {},
   "source": [
    "## Keeping the most influential samples\n",
    "\n",
    "Let's now compare the training times and performance of two subsets of our training set, one where the points are chosen at random, and one only keeping the highest influence points. Let's start with the random subset"
   ]
  },
  {
   "cell_type": "code",
   "execution_count": 90,
   "id": "3581bdbe",
   "metadata": {},
   "outputs": [
    {
     "data": {
      "text/plain": [
       "0.7162401028196055"
      ]
     },
     "execution_count": 90,
     "metadata": {},
     "output_type": "execute_result"
    }
   ],
   "source": [
    "random_idxs = np.random.permutation(list(range(len(dataset.x_train))))[:60]\n",
    "random_subset_x_train = transformed_dataset.x_train[random_idxs]\n",
    "random_subset_y_train = transformed_dataset.y_train[random_idxs]\n",
    "\n",
    "nn_random_ds = TorchNeuralNetwork(feature_dimension, num_classes, network_size)\n",
    "nn_random_ds.to(device)\n",
    "optimizer = Adam(params=nn_random_ds.parameters(), lr=0.001, weight_decay=0.001)\n",
    "scheduler = lr_scheduler.CosineAnnealingLR(optimizer, T_max=num_epochs)\n",
    "\n",
    "fit_torch_model(\n",
    "    model=nn_random_ds,\n",
    "    x=random_subset_x_train,\n",
    "    y=random_subset_y_train,\n",
    "    loss=F.cross_entropy,\n",
    "    optimizer=optimizer,\n",
    "    scheduler=scheduler,\n",
    "    num_epochs=num_epochs,\n",
    "    batch_size=16,\n",
    ")\n",
    "\n",
    "pred_y_test_random_ds = np.argmax(nn_random_ds(transformed_dataset.x_test).detach(), axis=1)\n",
    "f1_score(transformed_dataset.y_test, pred_y_test_random_ds, average=\"weighted\")"
   ]
  },
  {
   "cell_type": "markdown",
   "id": "4457acab",
   "metadata": {},
   "source": [
    "and now let's take the top influence function data-points"
   ]
  },
  {
   "cell_type": "code",
   "execution_count": 91,
   "id": "aa0d6670",
   "metadata": {},
   "outputs": [
    {
     "data": {
      "text/plain": [
       "0.7935819685739119"
      ]
     },
     "execution_count": 91,
     "metadata": {},
     "output_type": "execute_result"
    }
   ],
   "source": [
    "top_influece_idxs = np.argsort(mean_train_influences)[:60]\n",
    "top_influence_x_train = transformed_dataset.x_train[top_influece_idxs]\n",
    "top_influence_y_train = transformed_dataset.y_train[top_influece_idxs]\n",
    "\n",
    "nn_top_influences_ds = TorchNeuralNetwork(feature_dimension, num_classes, network_size)\n",
    "nn_top_influences_ds.to(device)\n",
    "optimizer = Adam(params=nn_top_influences_ds.parameters(), lr=0.001, weight_decay=0.001)\n",
    "scheduler = lr_scheduler.CosineAnnealingLR(optimizer, T_max=num_epochs)\n",
    "\n",
    "fit_torch_model(\n",
    "    model=nn_top_influences_ds,\n",
    "    x=top_influence_x_train,\n",
    "    y=top_influence_y_train,\n",
    "    loss=F.cross_entropy,\n",
    "    optimizer=optimizer,\n",
    "    scheduler=scheduler,\n",
    "    num_epochs=num_epochs,\n",
    "    batch_size=16,\n",
    ")\n",
    "\n",
    "pred_y_test_top_influences_ds = np.argmax(nn_top_influences_ds(transformed_dataset.x_test).detach(), axis=1)\n",
    "f1_score(transformed_dataset.y_test, pred_y_test_top_influences_ds, average=\"weighted\")"
   ]
  },
  {
   "cell_type": "code",
   "execution_count": 37,
   "id": "e316f401",
   "metadata": {},
   "outputs": [
    {
     "data": {
      "text/plain": [
       "array([ 94,   2, 120,  39, 123,  70,  52,  45,  71,  34, 134,  64,  65,\n",
       "        84,  20, 104,  54,  60,   1,  88])"
      ]
     },
     "execution_count": 37,
     "metadata": {},
     "output_type": "execute_result"
    }
   ],
   "source": [
    "top_influece_idxs"
   ]
  },
  {
   "cell_type": "code",
   "execution_count": 231,
   "id": "a2a6008b",
   "metadata": {},
   "outputs": [
    {
     "data": {
      "text/plain": [
       "array([  0,  86, 123,  92,  48,  38,  68,  87,  65,   3,  13,  78, 115,\n",
       "       140,   2, 122, 110, 102, 139,  57,  70,  99, 129,  40,  32,  97,\n",
       "        62,  56,  80, 113, 135,  71,  52, 133,  39,  88,  17,  24,  43,\n",
       "        89,  22, 116,  76,  15,  61, 100,  49,   1,  82,  64, 104, 124,\n",
       "        25,  44,  47,  69,  11,  67,  19,  54,  20,  10, 108,   4,  14,\n",
       "       101,  37,  30,  75, 134,  84,  31,  50, 127, 125, 114,  45,  23,\n",
       "        74,  41, 121,  12,  79,   9, 138,   7,  34,  90, 131,  58,   8,\n",
       "       130,  26,  91,  83, 112,  18,  93,  33, 105, 111,   5,  53, 109,\n",
       "       132, 117, 128,  21,  36,  29, 136, 119,  35,  46,  27, 120,  66,\n",
       "       103,  28,  63, 118,  16,  51,  77,  98, 126,  59,  55,   6, 107,\n",
       "        73,  94,  96, 137,  72,  60,  85,  95,  42,  81, 141, 106])"
      ]
     },
     "execution_count": 231,
     "metadata": {},
     "output_type": "execute_result"
    }
   ],
   "source": [
    "np.argsort(mean_train_influences)"
   ]
  },
  {
   "cell_type": "code",
   "execution_count": 232,
   "id": "95ba406b",
   "metadata": {},
   "outputs": [
    {
     "data": {
      "text/plain": [
       "array([-2.15763164e+00, -7.95943975e-01, -6.38552845e-01, -5.37821114e-01,\n",
       "       -3.94398183e-01, -3.52275610e-01, -3.32806975e-01, -3.24840605e-01,\n",
       "       -3.22741896e-01, -3.11116815e-01, -3.08059275e-01, -2.88314730e-01,\n",
       "       -2.60205805e-01, -2.29278862e-01, -2.19577536e-01, -2.04646975e-01,\n",
       "       -1.99460849e-01, -1.36265174e-01, -1.31492794e-01, -1.03345826e-01,\n",
       "       -9.97533798e-02, -8.83010328e-02, -7.38581195e-02, -7.22942501e-02,\n",
       "       -7.11359978e-02, -7.06141591e-02, -5.99242114e-02, -5.48317879e-02,\n",
       "       -5.33144176e-02, -5.32089919e-02, -4.49744947e-02, -4.37225811e-02,\n",
       "       -3.91376466e-02, -3.62400487e-02, -3.37442569e-02, -2.83415709e-02,\n",
       "       -2.66681910e-02, -2.02116482e-02, -1.62000433e-02, -1.34793865e-02,\n",
       "       -1.25661371e-02, -1.07055744e-02, -6.06987625e-03, -5.42681711e-03,\n",
       "       -4.83626360e-03, -3.98456259e-03, -3.80471977e-03, -3.50053702e-03,\n",
       "       -2.74823536e-03, -2.18451140e-03, -2.07251403e-03, -1.29063777e-03,\n",
       "       -1.16806070e-03, -1.00567238e-03, -3.76002747e-04,  5.73765137e-05,\n",
       "        9.79879114e-05,  9.65302286e-04,  1.20559300e-03,  1.68426812e-03,\n",
       "        1.89573935e-03,  2.05973908e-03,  2.68301996e-03,  2.74765212e-03,\n",
       "        3.67181469e-03,  4.02033143e-03,  4.19718632e-03,  5.20708179e-03,\n",
       "        5.74553572e-03,  5.90102095e-03,  5.92467841e-03,  6.49637822e-03,\n",
       "        7.20257079e-03,  7.79535295e-03,  9.54541191e-03,  1.05120763e-02,\n",
       "        1.09252958e-02,  1.14710163e-02,  1.17552700e-02,  1.31356688e-02,\n",
       "        1.34403054e-02,  1.35612367e-02,  1.37779061e-02,  1.38842175e-02,\n",
       "        1.58082154e-02,  1.60388928e-02,  1.60503518e-02,  1.61512643e-02,\n",
       "        1.64593607e-02,  1.69385299e-02,  1.72492359e-02,  2.35871393e-02,\n",
       "        2.56226063e-02,  2.77855527e-02,  3.19023058e-02,  3.23394053e-02,\n",
       "        3.25474069e-02,  3.28367576e-02,  3.59659865e-02,  3.82094607e-02,\n",
       "        3.87759656e-02,  4.00461592e-02,  4.69766147e-02,  4.86281440e-02,\n",
       "        4.91445623e-02,  4.95939739e-02,  5.03468439e-02,  5.03880717e-02,\n",
       "        5.33714853e-02,  5.36006838e-02,  5.49186915e-02,  5.58319278e-02,\n",
       "        5.59788495e-02,  6.00129217e-02,  6.30645901e-02,  7.73639232e-02,\n",
       "        8.16930085e-02,  1.04873076e-01,  1.05665021e-01,  1.09505601e-01,\n",
       "        1.16572052e-01,  1.30749896e-01,  1.31953344e-01,  1.50803134e-01,\n",
       "        1.85127556e-01,  1.88277438e-01,  2.08286136e-01,  2.15426385e-01,\n",
       "        2.15502545e-01,  2.16080844e-01,  2.17541650e-01,  2.25912154e-01,\n",
       "        2.43346930e-01,  3.08482170e-01,  3.29376072e-01,  4.67118859e-01,\n",
       "        7.79547930e-01,  7.88354814e-01,  8.57772648e-01,  9.50101972e-01,\n",
       "        9.50867534e-01,  1.02451396e+00], dtype=float32)"
      ]
     },
     "execution_count": 232,
     "metadata": {},
     "output_type": "execute_result"
    }
   ],
   "source": [
    "mean_train_influences[np.argsort(mean_train_influences)]"
   ]
  }
 ],
 "metadata": {
  "kernelspec": {
   "display_name": "Python 3",
   "language": "python",
   "name": "python3"
  },
  "language_info": {
   "codemirror_mode": {
    "name": "ipython",
    "version": 3
   },
   "file_extension": ".py",
   "mimetype": "text/x-python",
   "name": "python",
   "nbconvert_exporter": "python",
   "pygments_lexer": "ipython3",
   "version": "3.9.4"
  },
  "vscode": {
   "interpreter": {
    "hash": "4e000971326892723e7f31ded70802f690c31c3620f59a0f99e594aaee3047ef"
   }
  }
 },
 "nbformat": 4,
 "nbformat_minor": 5
}
